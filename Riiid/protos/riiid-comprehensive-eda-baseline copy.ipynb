{
 "cells": [
  {
   "cell_type": "markdown",
   "metadata": {
    "papermill": {
     "duration": 0.076128,
     "end_time": "2020-12-17T09:47:54.822533",
     "exception": false,
     "start_time": "2020-12-17T09:47:54.746405",
     "status": "completed"
    },
    "tags": []
   },
   "source": [
    "# About the Riiid AIEd Challenge 2020\n",
    "\n",
    "Riiid Labs, an AI solutions provider delivering creative disruption to the education market, empowers global education players to rethink traditional ways of learning leveraging AI. With a strong belief in equal opportunity in education, Riiid launched an AI tutor based on deep-learning algorithms in 2017 that attracted more than one million South Korean students. This year, the company released EdNet, the world’s largest open database for AI education containing more than 100 million student interactions.\n",
    "\n",
    "In this competition, your challenge is to create algorithms for \"Knowledge Tracing,\" the modeling of student knowledge over time. The goal is to accurately predict how students will perform on future interactions. You will pair your machine learning skills using Riiid’s EdNet data. \n",
    "\n",
    "Submissions are evaluated on area under the ROC curve between the predicted probability and the observed target."
   ]
  },
  {
   "cell_type": "markdown",
   "metadata": {},
   "source": [
    "# Riiid AIEd Challenge 2020 について\n",
    "\n",
    "教育市場に創造的破壊をもたらすAIソリューションプロバイダーであるRiiid Labsは、世界の教育関係者にAIを活用した従来の学習方法を見直す力を与えています。教育の機会均等を強く信条とするRiiidは、2017年にディープラーニングアルゴリズムに基づくAIチューターを発売し、100万人以上の韓国の学生を魅了しました。今年は、1億人以上の学生とのやり取りを収録した世界最大のAI教育用オープンデータベース「EdNet」をリリースしました。\n",
    "\n",
    "このコンペティションでは、学生の知識を時系列でモデリングする「Knowledge Tracing」のアルゴリズムを作成することが課題です。目標は、学生が将来の対話でどのような成績を取るかを正確に予測することです。RiiidのEdNetデータを使って、あなたの機械学習スキルを発揮してください。\n",
    "\n",
    "提出物は、予測された確率と観測されたターゲットとの間のROC曲線下面積で評価されます。"
   ]
  },
  {
   "cell_type": "markdown",
   "metadata": {
    "papermill": {
     "duration": 0.074059,
     "end_time": "2020-12-17T09:47:54.969296",
     "exception": false,
     "start_time": "2020-12-17T09:47:54.895237",
     "status": "completed"
    },
    "tags": []
   },
   "source": [
    "# Table of Contents\n",
    "\n",
    "[**1. EDA**](#1.-EDA)\n",
    "\n",
    "[1.1 Exploring Train](#1.1-Exploring-Train)\n",
    "\n",
    "[1.2 Exploring Questions](#1.2-Exploring-Questions)\n",
    "\n",
    "[1.3 Exploring Lectures](#1.3-Exploring-Lectures)\n",
    "  \n",
    "[**2. Baseline model**](#2.-Baseline-model)"
   ]
  },
  {
   "cell_type": "markdown",
   "metadata": {
    "papermill": {
     "duration": 0.073586,
     "end_time": "2020-12-17T09:47:55.116476",
     "exception": false,
     "start_time": "2020-12-17T09:47:55.04289",
     "status": "completed"
    },
    "tags": []
   },
   "source": [
    "# 1. EDA\n",
    "\n",
    "Altogether, we are given 7 files.\n",
    "\n",
    ">Tailoring education to a student's ability level is one of the many valuable things an AI tutor can do. Your challenge in this competition is a version of that overall task; you will predict whether students are able to answer their next questions correctly. You'll be provided with the same sorts of information a complete education app would have: that student's historic performance, the performance of other students on the same question, metadata about the question itself, and more.\n",
    "\n",
    ">This is a time-series code competition, you will receive test set data and make predictions with Kaggle's time-series API. Please be sure to review the Time-series API Details section closely.\n",
    "\n",
    "So we should realize that example_test.csv really is just an example. The submission happens via the API."
   ]
  },
  {
   "cell_type": "markdown",
   "metadata": {},
   "source": [
    "### (日本語訳)\n",
    "合計で7つのファイルが渡されます。\n",
    "\n",
    "生徒の能力レベルに合わせて教育を行うことは、AI家庭教師ができる多くの価値のあることの1つです。このコンペティションでの課題は、その全体的なタスクのバージョンで、生徒が次の質問に正しく答えられるかどうかを予測することです。その生徒の過去の成績、同じ問題に対する他の生徒の成績、問題自体のメタデータなど、完全な教育アプリが持っているのと同じ種類の情報が提供されることになります。\n",
    "\n",
    "これは時系列コードのコンペティションで、あなたはテストセットのデータを受け取り、Kaggleの時系列APIを使って予測を行います。時系列API詳細のセクションをよく確認するようにしてください。\n",
    "\n",
    "そこで、example_test.csvが本当にただの例であることを認識する必要があります。提出はAPI経由で行われます。"
   ]
  },
  {
   "cell_type": "code",
   "execution_count": 1,
   "metadata": {},
   "outputs": [
    {
     "name": "stdout",
     "output_type": "stream",
     "text": [
      "Python 3.7.12\n"
     ]
    }
   ],
   "source": [
    "!python -V"
   ]
  },
  {
   "cell_type": "code",
   "execution_count": 2,
   "metadata": {
    "_cell_guid": "79c7e3d0-c299-4dcb-8224-4455121ee9b0",
    "_kg_hide-input": true,
    "_uuid": "d629ff2d2480ee46fbb7e2d37f6b5fab8052498a",
    "papermill": {
     "duration": 1.184028,
     "end_time": "2020-12-17T09:47:56.375118",
     "exception": false,
     "start_time": "2020-12-17T09:47:55.19109",
     "status": "completed"
    },
    "tags": []
   },
   "outputs": [
    {
     "name": "stdout",
     "output_type": "stream",
     "text": [
      "../input/riiid-test-answer-prediction/questions.csv\n",
      "../input/riiid-test-answer-prediction/train.csv\n",
      "../input/riiid-test-answer-prediction/example_test.csv\n",
      "../input/riiid-test-answer-prediction/example_sample_submission.csv\n",
      "../input/riiid-test-answer-prediction/lectures.csv\n",
      "../input/riiid-test-answer-prediction/riiideducation/__init__.py\n",
      "../input/riiid-test-answer-prediction/riiideducation/competition.cpython-37m-x86_64-linux-gnu.so\n",
      "../input/riiid-test-answer-prediction/riiideducation/__pycache__/__init__.cpython-37.pyc\n"
     ]
    }
   ],
   "source": [
    "import numpy as np\n",
    "import pandas as pd\n",
    "import matplotlib.pyplot as plt\n",
    "%matplotlib inline\n",
    "import matplotlib.style as style\n",
    "style.use('fivethirtyeight')\n",
    "import seaborn as sns\n",
    "import os\n",
    "from matplotlib.ticker import FuncFormatter\n",
    "\n",
    "import os\n",
    "for dirname, _, filenames in os.walk('../input/riiid-test-answer-prediction'):\n",
    "    for filename in filenames:\n",
    "        print(os.path.join(dirname, filename))"
   ]
  },
  {
   "cell_type": "markdown",
   "metadata": {
    "papermill": {
     "duration": 0.075907,
     "end_time": "2020-12-17T09:47:56.527128",
     "exception": false,
     "start_time": "2020-12-17T09:47:56.451221",
     "status": "completed"
    },
    "tags": []
   },
   "source": [
    "As the train dataset is huge, I am gladly using the pickle that Rohan Rao prepared in this kernel: https://www.kaggle.com/rohanrao/tutorial-on-reading-large-datasets/ (Thanks Rohan!). I actually do this at work all the time, and in this case it reduces the time to load the dataset (with the data types specified in the file description) from close to 9 minutes to about 16 seconds.\n",
    "\n",
    "As we can see, we have over 101 million rows the the train set.\n",
    "\n",
    "訓練データセットが巨大なので、このカーネルでRohan Raoが用意したpickleを喜んで使っています: https://www.kaggle.com/rohanrao/tutorial-on-reading-large-datasets/ (Rohanありがとう！). 私はいつもこのようにしていますが、今回は（ファイルの説明で指定されたデータタイプで）データセットの読み込みにかかる時間を9分近くから16秒程度に短縮することができました。\n",
    "\n",
    "見ての通り、1億100万以上の行があります。\n"
   ]
  },
  {
   "cell_type": "code",
   "execution_count": 3,
   "metadata": {
    "_kg_hide-input": true,
    "papermill": {
     "duration": 45.316915,
     "end_time": "2020-12-17T09:48:41.918495",
     "exception": false,
     "start_time": "2020-12-17T09:47:56.60158",
     "status": "completed"
    },
    "tags": []
   },
   "outputs": [
    {
     "name": "stdout",
     "output_type": "stream",
     "text": [
      "CPU times: user 3.37 s, sys: 2.02 s, total: 5.4 s\n",
      "Wall time: 5.39 s\n"
     ]
    }
   ],
   "source": [
    "%%time\n",
    "\n",
    "train = pd.read_pickle(\"../input/riiid-train-data-multiple-formats/riiid_train.pkl.gzip\")"
   ]
  },
  {
   "cell_type": "code",
   "execution_count": 4,
   "metadata": {},
   "outputs": [
    {
     "name": "stdout",
     "output_type": "stream",
     "text": [
      "train size: (30288115, 10)\n"
     ]
    }
   ],
   "source": [
    "target_id = pd.Series(train.user_id.unique()).sample(frac=0.3)\n",
    "train = train[train['user_id'].isin(target_id)]\n",
    "print('train size:', train.shape)"
   ]
  },
  {
   "cell_type": "markdown",
   "metadata": {
    "papermill": {
     "duration": 0.078327,
     "end_time": "2020-12-17T09:48:42.076745",
     "exception": false,
     "start_time": "2020-12-17T09:48:41.998418",
     "status": "completed"
    },
    "tags": []
   },
   "source": [
    "Let's start by checking how much memory this dataframe is using."
   ]
  },
  {
   "cell_type": "code",
   "execution_count": 5,
   "metadata": {
    "papermill": {
     "duration": 20.158522,
     "end_time": "2020-12-17T09:49:02.319994",
     "exception": false,
     "start_time": "2020-12-17T09:48:42.161472",
     "status": "completed"
    },
    "tags": []
   },
   "outputs": [
    {
     "data": {
      "text/plain": [
       "Index                              242304920\n",
       "row_id                             242304920\n",
       "timestamp                          242304920\n",
       "user_id                            121152460\n",
       "content_id                          60576230\n",
       "content_type_id                     30288115\n",
       "task_container_id                   60576230\n",
       "user_answer                         30288115\n",
       "answered_correctly                  30288115\n",
       "prior_question_elapsed_time        121152460\n",
       "prior_question_had_explanation    1075552872\n",
       "dtype: int64"
      ]
     },
     "execution_count": 5,
     "metadata": {},
     "output_type": "execute_result"
    }
   ],
   "source": [
    "train.memory_usage(deep=True)"
   ]
  },
  {
   "cell_type": "code",
   "execution_count": 6,
   "metadata": {
    "papermill": {
     "duration": 0.095582,
     "end_time": "2020-12-17T09:49:02.489794",
     "exception": false,
     "start_time": "2020-12-17T09:49:02.394212",
     "status": "completed"
    },
    "tags": []
   },
   "outputs": [
    {
     "name": "stdout",
     "output_type": "stream",
     "text": [
      "<class 'pandas.core.frame.DataFrame'>\n",
      "Int64Index: 30288115 entries, 46 to 101230024\n",
      "Data columns (total 10 columns):\n",
      " #   Column                          Dtype  \n",
      "---  ------                          -----  \n",
      " 0   row_id                          int64  \n",
      " 1   timestamp                       int64  \n",
      " 2   user_id                         int32  \n",
      " 3   content_id                      int16  \n",
      " 4   content_type_id                 bool   \n",
      " 5   task_container_id               int16  \n",
      " 6   user_answer                     int8   \n",
      " 7   answered_correctly              int8   \n",
      " 8   prior_question_elapsed_time     float32\n",
      " 9   prior_question_had_explanation  object \n",
      "dtypes: bool(1), float32(1), int16(2), int32(1), int64(2), int8(2), object(1)\n",
      "memory usage: 1.3+ GB\n"
     ]
    }
   ],
   "source": [
    "train.info()"
   ]
  },
  {
   "cell_type": "markdown",
   "metadata": {
    "papermill": {
     "duration": 0.074831,
     "end_time": "2020-12-17T09:49:02.640215",
     "exception": false,
     "start_time": "2020-12-17T09:49:02.565384",
     "status": "completed"
    },
    "tags": []
   },
   "source": [
    "Hmm.....we can see that 'prior_question_had_explanation' is object and taking a lot of memory, while it is supposed to be boolean. Let's fix this before continuing.\n",
    "\n",
    "うーん......prior_question_had_explanationはオブジェクトで、メモリを大量に消費していることがわかります。続行する前にこれを修正しましょう。"
   ]
  },
  {
   "cell_type": "code",
   "execution_count": 7,
   "metadata": {
    "papermill": {
     "duration": 32.19594,
     "end_time": "2020-12-17T09:49:34.911773",
     "exception": false,
     "start_time": "2020-12-17T09:49:02.715833",
     "status": "completed"
    },
    "tags": []
   },
   "outputs": [
    {
     "data": {
      "text/plain": [
       "Index                             242304920\n",
       "row_id                            242304920\n",
       "timestamp                         242304920\n",
       "user_id                           121152460\n",
       "content_id                         60576230\n",
       "content_type_id                    30288115\n",
       "task_container_id                  60576230\n",
       "user_answer                        30288115\n",
       "answered_correctly                 30288115\n",
       "prior_question_elapsed_time       121152460\n",
       "prior_question_had_explanation     60576230\n",
       "dtype: int64"
      ]
     },
     "execution_count": 7,
     "metadata": {},
     "output_type": "execute_result"
    }
   ],
   "source": [
    "train['prior_question_had_explanation'] = train['prior_question_had_explanation'].astype('boolean')\n",
    "\n",
    "train.memory_usage(deep=True)"
   ]
  },
  {
   "cell_type": "markdown",
   "metadata": {
    "papermill": {
     "duration": 0.07468,
     "end_time": "2020-12-17T09:49:35.064678",
     "exception": false,
     "start_time": "2020-12-17T09:49:34.989998",
     "status": "completed"
    },
    "tags": []
   },
   "source": [
    "The other files don't take very long to load, and I am importing the CSVs directly.\n",
    "\n",
    "他のファイルは読み込みにあまり時間がかからないので、CSVを直接インポートしています。"
   ]
  },
  {
   "cell_type": "code",
   "execution_count": 8,
   "metadata": {
    "_kg_hide-input": true,
    "papermill": {
     "duration": 0.132324,
     "end_time": "2020-12-17T09:49:35.272284",
     "exception": false,
     "start_time": "2020-12-17T09:49:35.13996",
     "status": "completed"
    },
    "tags": []
   },
   "outputs": [
    {
     "name": "stdout",
     "output_type": "stream",
     "text": [
      "CPU times: user 2.57 ms, sys: 9.25 ms, total: 11.8 ms\n",
      "Wall time: 10.2 ms\n"
     ]
    }
   ],
   "source": [
    "%%time\n",
    "\n",
    "questions = pd.read_csv('../input/riiid-test-answer-prediction/questions.csv')\n",
    "lectures = pd.read_csv('../input/riiid-test-answer-prediction/lectures.csv')\n",
    "example_test = pd.read_csv('../input/riiid-test-answer-prediction/example_test.csv')\n",
    "example_sample_submission = pd.read_csv('../input/riiid-test-answer-prediction/example_sample_submission.csv')"
   ]
  },
  {
   "cell_type": "markdown",
   "metadata": {
    "papermill": {
     "duration": 0.076475,
     "end_time": "2020-12-17T09:49:35.426088",
     "exception": false,
     "start_time": "2020-12-17T09:49:35.349613",
     "status": "completed"
    },
    "tags": []
   },
   "source": [
    "# 1.1 Exploring Train\n",
    "\n",
    "The columns in the train file are described as:\n",
    "* row_id: (int64) ID code for the row.\n",
    "* timestamp: (int64) the time in milliseconds between this user interaction and the first event completion from that user.\n",
    "* user_id: (int32) ID code for the user.\n",
    "* content_id: (int16) ID code for the user interaction\n",
    "* content_type_id: (int8) 0 if the event was a question being posed to the user, 1 if the event was the user watching a lecture.\n",
    "* task_container_id: (int16) Id code for the batch of questions or lectures. For example, a user might see three questions in a row before seeing the explanations for any of them. Those three would all share a task_container_id.\n",
    "* user_answer: (int8) the user's answer to the question, if any. Read -1 as null, for lectures.\n",
    "* answered_correctly: (int8) if the user responded correctly. Read -1 as null, for lectures.\n",
    "* prior_question_elapsed_time: (float32) The average time in milliseconds it took a user to answer each question in the previous question bundle, ignoring any lectures in between. Is null for a user's first question bundle or lecture. Note that the time is the average time a user took to solve each question in the previous bundle.\n",
    "* prior_question_had_explanation: (bool) Whether or not the user saw an explanation and the correct response(s) after answering the previous question bundle, ignoring any lectures in between. The value is shared across a single question bundle, and is null for a user's first question bundle or lecture. Typically the first several questions a user sees were part of an onboarding diagnostic test where they did not get any feedback\n",
    "\n",
    "The train dataset is ordered by ascending user_id and ascending timestamp."
   ]
  },
  {
   "cell_type": "markdown",
   "metadata": {},
   "source": [
    "### (訳)\n",
    "trainファイルのカラムは以下のように記述されている。\n",
    "\n",
    "- row_id: (int64) 行のIDコード。\n",
    "- timestamp: (int64) このユーザーインタラクションから、そのユーザーからの最初のイベント完了までの時間（ミリ秒単位）。\n",
    "- user_id: (int32) ユーザーの ID コード。\n",
    "- content_id: (int16) ユーザーとのやり取りの ID コード。\n",
    "- content_type_id: (int8) ユーザーへの質問であれば 0、講義の視聴であれば 1。\n",
    "- task_container_id: (int16) 質問またはレクチャーのバッチの ID コード。例えば、ユーザーは説明を見る前に、3つの質問を連続して見るかもしれません。これらの3つはすべてtask_container_idを共有します。\n",
    "- user_answer: (int8) 質問に対するユーザーの答え。講義では、-1をnullとして読みます。\n",
    "- answered_correctly: (int8) ユーザーが正しく答えたかどうか。レクチャーの場合、-1をnullとして読みます。\n",
    "- prior_question_elapsed_time: (float32) 前の質問バンドルで、ユーザーが各質問に回答するのにかかった平均時間(ミリ秒)です。ユーザの最初の質問バンドルまたはレクチャーの場合は null です。この時間はユーザが前のバンドル内の各問題を解くのにかかった平均時間であることに注意してください。\n",
    "- prior_question_had_explanation: (bool) ユーザーが前の質問バンドルに解答した後、説明と正しい答えを見たかどうか。この値は1つの質問バンドルで共有され、ユーザの最初の質問バンドルまたはレクチャーではNULLです。通常、ユーザが最初に見るいくつかの質問は、フィードバックを得られないオンボーディング診断テストの一部です。\n",
    "\n",
    "訓練データセットはuser_idの昇順とtimestampの昇順で並べられます。\n"
   ]
  },
  {
   "cell_type": "code",
   "execution_count": 9,
   "metadata": {
    "papermill": {
     "duration": 0.097864,
     "end_time": "2020-12-17T09:49:35.598829",
     "exception": false,
     "start_time": "2020-12-17T09:49:35.500965",
     "status": "completed"
    },
    "tags": []
   },
   "outputs": [
    {
     "data": {
      "text/html": [
       "<div>\n",
       "<style scoped>\n",
       "    .dataframe tbody tr th:only-of-type {\n",
       "        vertical-align: middle;\n",
       "    }\n",
       "\n",
       "    .dataframe tbody tr th {\n",
       "        vertical-align: top;\n",
       "    }\n",
       "\n",
       "    .dataframe thead th {\n",
       "        text-align: right;\n",
       "    }\n",
       "</style>\n",
       "<table border=\"1\" class=\"dataframe\">\n",
       "  <thead>\n",
       "    <tr style=\"text-align: right;\">\n",
       "      <th></th>\n",
       "      <th>row_id</th>\n",
       "      <th>timestamp</th>\n",
       "      <th>user_id</th>\n",
       "      <th>content_id</th>\n",
       "      <th>content_type_id</th>\n",
       "      <th>task_container_id</th>\n",
       "      <th>user_answer</th>\n",
       "      <th>answered_correctly</th>\n",
       "      <th>prior_question_elapsed_time</th>\n",
       "      <th>prior_question_had_explanation</th>\n",
       "    </tr>\n",
       "  </thead>\n",
       "  <tbody>\n",
       "    <tr>\n",
       "      <th>46</th>\n",
       "      <td>46</td>\n",
       "      <td>0</td>\n",
       "      <td>124</td>\n",
       "      <td>7900</td>\n",
       "      <td>False</td>\n",
       "      <td>0</td>\n",
       "      <td>0</td>\n",
       "      <td>1</td>\n",
       "      <td>NaN</td>\n",
       "      <td>&lt;NA&gt;</td>\n",
       "    </tr>\n",
       "    <tr>\n",
       "      <th>47</th>\n",
       "      <td>47</td>\n",
       "      <td>32683</td>\n",
       "      <td>124</td>\n",
       "      <td>7876</td>\n",
       "      <td>False</td>\n",
       "      <td>1</td>\n",
       "      <td>0</td>\n",
       "      <td>0</td>\n",
       "      <td>26000.0</td>\n",
       "      <td>False</td>\n",
       "    </tr>\n",
       "    <tr>\n",
       "      <th>48</th>\n",
       "      <td>48</td>\n",
       "      <td>62000</td>\n",
       "      <td>124</td>\n",
       "      <td>175</td>\n",
       "      <td>False</td>\n",
       "      <td>2</td>\n",
       "      <td>2</td>\n",
       "      <td>1</td>\n",
       "      <td>29000.0</td>\n",
       "      <td>False</td>\n",
       "    </tr>\n",
       "    <tr>\n",
       "      <th>49</th>\n",
       "      <td>49</td>\n",
       "      <td>83632</td>\n",
       "      <td>124</td>\n",
       "      <td>1278</td>\n",
       "      <td>False</td>\n",
       "      <td>3</td>\n",
       "      <td>1</td>\n",
       "      <td>0</td>\n",
       "      <td>26000.0</td>\n",
       "      <td>False</td>\n",
       "    </tr>\n",
       "    <tr>\n",
       "      <th>50</th>\n",
       "      <td>50</td>\n",
       "      <td>189483</td>\n",
       "      <td>124</td>\n",
       "      <td>2064</td>\n",
       "      <td>False</td>\n",
       "      <td>4</td>\n",
       "      <td>2</td>\n",
       "      <td>0</td>\n",
       "      <td>18000.0</td>\n",
       "      <td>False</td>\n",
       "    </tr>\n",
       "    <tr>\n",
       "      <th>51</th>\n",
       "      <td>51</td>\n",
       "      <td>189483</td>\n",
       "      <td>124</td>\n",
       "      <td>2063</td>\n",
       "      <td>False</td>\n",
       "      <td>4</td>\n",
       "      <td>3</td>\n",
       "      <td>0</td>\n",
       "      <td>18000.0</td>\n",
       "      <td>False</td>\n",
       "    </tr>\n",
       "    <tr>\n",
       "      <th>52</th>\n",
       "      <td>52</td>\n",
       "      <td>189483</td>\n",
       "      <td>124</td>\n",
       "      <td>2065</td>\n",
       "      <td>False</td>\n",
       "      <td>4</td>\n",
       "      <td>2</td>\n",
       "      <td>1</td>\n",
       "      <td>18000.0</td>\n",
       "      <td>False</td>\n",
       "    </tr>\n",
       "    <tr>\n",
       "      <th>53</th>\n",
       "      <td>53</td>\n",
       "      <td>258793</td>\n",
       "      <td>124</td>\n",
       "      <td>3364</td>\n",
       "      <td>False</td>\n",
       "      <td>5</td>\n",
       "      <td>2</td>\n",
       "      <td>0</td>\n",
       "      <td>33333.0</td>\n",
       "      <td>False</td>\n",
       "    </tr>\n",
       "    <tr>\n",
       "      <th>54</th>\n",
       "      <td>54</td>\n",
       "      <td>258793</td>\n",
       "      <td>124</td>\n",
       "      <td>3365</td>\n",
       "      <td>False</td>\n",
       "      <td>5</td>\n",
       "      <td>3</td>\n",
       "      <td>0</td>\n",
       "      <td>33333.0</td>\n",
       "      <td>False</td>\n",
       "    </tr>\n",
       "    <tr>\n",
       "      <th>55</th>\n",
       "      <td>55</td>\n",
       "      <td>258793</td>\n",
       "      <td>124</td>\n",
       "      <td>3363</td>\n",
       "      <td>False</td>\n",
       "      <td>5</td>\n",
       "      <td>0</td>\n",
       "      <td>0</td>\n",
       "      <td>33333.0</td>\n",
       "      <td>False</td>\n",
       "    </tr>\n",
       "  </tbody>\n",
       "</table>\n",
       "</div>"
      ],
      "text/plain": [
       "    row_id  timestamp  user_id  content_id  content_type_id  \\\n",
       "46      46          0      124        7900            False   \n",
       "47      47      32683      124        7876            False   \n",
       "48      48      62000      124         175            False   \n",
       "49      49      83632      124        1278            False   \n",
       "50      50     189483      124        2064            False   \n",
       "51      51     189483      124        2063            False   \n",
       "52      52     189483      124        2065            False   \n",
       "53      53     258793      124        3364            False   \n",
       "54      54     258793      124        3365            False   \n",
       "55      55     258793      124        3363            False   \n",
       "\n",
       "    task_container_id  user_answer  answered_correctly  \\\n",
       "46                  0            0                   1   \n",
       "47                  1            0                   0   \n",
       "48                  2            2                   1   \n",
       "49                  3            1                   0   \n",
       "50                  4            2                   0   \n",
       "51                  4            3                   0   \n",
       "52                  4            2                   1   \n",
       "53                  5            2                   0   \n",
       "54                  5            3                   0   \n",
       "55                  5            0                   0   \n",
       "\n",
       "    prior_question_elapsed_time  prior_question_had_explanation  \n",
       "46                          NaN                            <NA>  \n",
       "47                      26000.0                           False  \n",
       "48                      29000.0                           False  \n",
       "49                      26000.0                           False  \n",
       "50                      18000.0                           False  \n",
       "51                      18000.0                           False  \n",
       "52                      18000.0                           False  \n",
       "53                      33333.0                           False  \n",
       "54                      33333.0                           False  \n",
       "55                      33333.0                           False  "
      ]
     },
     "execution_count": 9,
     "metadata": {},
     "output_type": "execute_result"
    }
   ],
   "source": [
    "train.head(10)"
   ]
  },
  {
   "cell_type": "code",
   "execution_count": 10,
   "metadata": {
    "_kg_hide-input": true,
    "papermill": {
     "duration": 0.914477,
     "end_time": "2020-12-17T09:49:36.603953",
     "exception": false,
     "start_time": "2020-12-17T09:49:35.689476",
     "status": "completed"
    },
    "tags": []
   },
   "outputs": [
    {
     "name": "stdout",
     "output_type": "stream",
     "text": [
      "We have 118097 unique users in our train set\n"
     ]
    }
   ],
   "source": [
    "print(f'We have {train.user_id.nunique()} unique users in our train set')"
   ]
  },
  {
   "cell_type": "markdown",
   "metadata": {
    "papermill": {
     "duration": 0.075835,
     "end_time": "2020-12-17T09:49:36.759379",
     "exception": false,
     "start_time": "2020-12-17T09:49:36.683544",
     "status": "completed"
    },
    "tags": []
   },
   "source": [
    "Content_type_id = False means that a question was asked. True means that the user was watching a lecture.\n",
    "\n",
    "「content_type_id = False」は質問があったことを意味します。Trueは、ユーザが講義を視聴していたことを意味します。"
   ]
  },
  {
   "cell_type": "code",
   "execution_count": 11,
   "metadata": {
    "_kg_hide-input": true,
    "papermill": {
     "duration": 0.856267,
     "end_time": "2020-12-17T09:49:37.69222",
     "exception": false,
     "start_time": "2020-12-17T09:49:36.835953",
     "status": "completed"
    },
    "tags": []
   },
   "outputs": [
    {
     "data": {
      "text/plain": [
       "False    29704165\n",
       "True       583950\n",
       "Name: content_type_id, dtype: int64"
      ]
     },
     "execution_count": 11,
     "metadata": {},
     "output_type": "execute_result"
    }
   ],
   "source": [
    "train.content_type_id.value_counts()"
   ]
  },
  {
   "cell_type": "markdown",
   "metadata": {
    "papermill": {
     "duration": 0.081492,
     "end_time": "2020-12-17T09:49:37.904535",
     "exception": false,
     "start_time": "2020-12-17T09:49:37.823043",
     "status": "completed"
    },
    "tags": []
   },
   "source": [
    "Content_id is a code for the user interaction. Basically, these are the questions if content_type is question (question_id: foreign key for the train/test content_id column, when the content type is question).\n",
    "\n",
    "content_id は、ユーザーインタラクションを表すコードです。基本的には、content_typeがquestionの場合の質問です（question_id: train/test content_idカラムの外部キー、content_typeがquestionの場合）。"
   ]
  },
  {
   "cell_type": "code",
   "execution_count": 12,
   "metadata": {
    "_kg_hide-input": true,
    "papermill": {
     "duration": 9.014258,
     "end_time": "2020-12-17T09:49:46.996737",
     "exception": false,
     "start_time": "2020-12-17T09:49:37.982479",
     "status": "completed"
    },
    "tags": []
   },
   "outputs": [
    {
     "name": "stdout",
     "output_type": "stream",
     "text": [
      "We have 13770 content ids in our train set, of which 13516 are questions.\n"
     ]
    }
   ],
   "source": [
    "print(f'We have {train.content_id.nunique()} content ids in our train set, of which {train[train.content_type_id == False].content_id.nunique()} are questions.')"
   ]
  },
  {
   "cell_type": "code",
   "execution_count": 13,
   "metadata": {
    "_kg_hide-input": true,
    "papermill": {
     "duration": 4.30588,
     "end_time": "2020-12-17T09:49:51.381593",
     "exception": false,
     "start_time": "2020-12-17T09:49:47.075713",
     "status": "completed"
    },
    "tags": []
   },
   "outputs": [
    {
     "data": {
      "image/png": "[encoded data removed]",
      "text/plain": [
       "<Figure size 864x432 with 1 Axes>"
      ]
     },
     "metadata": {},
     "output_type": "display_data"
    }
   ],
   "source": [
    "cids = train.content_id.value_counts()[:30]\n",
    "\n",
    "fig = plt.figure(figsize=(12,6))\n",
    "ax = cids.plot.bar()\n",
    "plt.title(\"Thirty most used content id's\")\n",
    "plt.xticks(rotation=90)\n",
    "ax.get_yaxis().set_major_formatter(FuncFormatter(lambda x, p: format(int(x), ','))) #add thousands separator\n",
    "plt.show()"
   ]
  },
  {
   "cell_type": "markdown",
   "metadata": {
    "papermill": {
     "duration": 0.077525,
     "end_time": "2020-12-17T09:49:51.537513",
     "exception": false,
     "start_time": "2020-12-17T09:49:51.459988",
     "status": "completed"
    },
    "tags": []
   },
   "source": [
    "task_container_id: (int16) Id code for the batch of questions or lectures. For example, a user might see three questions in a row before seeing the explanations for any of them. Those three would all share a task_container_id.\n",
    "\n",
    "task_container_id: (int16) 問題または講義のバッチのIDコードです。例えば、ユーザーは解説を見る前に、3つの質問を連続して見ることができます。これらの3つはすべてtask_container_idを共有します。"
   ]
  },
  {
   "cell_type": "code",
   "execution_count": 14,
   "metadata": {
    "_kg_hide-input": true,
    "papermill": {
     "duration": 0.960111,
     "end_time": "2020-12-17T09:49:52.575894",
     "exception": false,
     "start_time": "2020-12-17T09:49:51.615783",
     "status": "completed"
    },
    "tags": []
   },
   "outputs": [
    {
     "name": "stdout",
     "output_type": "stream",
     "text": [
      "We have 10000 unique Batches of questions or lectures.\n"
     ]
    }
   ],
   "source": [
    "print(f'We have {train.task_container_id.nunique()} unique Batches of questions or lectures.')"
   ]
  },
  {
   "cell_type": "markdown",
   "metadata": {
    "papermill": {
     "duration": 0.079066,
     "end_time": "2020-12-17T09:49:52.73657",
     "exception": false,
     "start_time": "2020-12-17T09:49:52.657504",
     "status": "completed"
    },
    "tags": []
   },
   "source": [
    "User answer. Seems that the questions are multiple choice (answers 0-3). As mentioned in the data description, -1 is actually no-answer (as the interaction was a lecture instead of a question).\n",
    "\n",
    "ユーザーの回答です。質問は多肢選択式（回答は0〜3）になっているようです。データの説明にあるように、-1は実際には無回答です（インタラクションが質問ではなく講義であったため）。"
   ]
  },
  {
   "cell_type": "code",
   "execution_count": 15,
   "metadata": {
    "_kg_hide-input": true,
    "papermill": {
     "duration": 0.880937,
     "end_time": "2020-12-17T09:49:53.747823",
     "exception": false,
     "start_time": "2020-12-17T09:49:52.866886",
     "status": "completed"
    },
    "tags": []
   },
   "outputs": [
    {
     "data": {
      "text/plain": [
       " 0    8433345\n",
       " 1    8071930\n",
       " 3    7807843\n",
       " 2    5391047\n",
       "-1     583950\n",
       "Name: user_answer, dtype: int64"
      ]
     },
     "execution_count": 15,
     "metadata": {},
     "output_type": "execute_result"
    }
   ],
   "source": [
    "train.user_answer.value_counts()"
   ]
  },
  {
   "cell_type": "markdown",
   "metadata": {
    "papermill": {
     "duration": 0.081355,
     "end_time": "2020-12-17T09:49:53.909651",
     "exception": false,
     "start_time": "2020-12-17T09:49:53.828296",
     "status": "completed"
    },
    "tags": []
   },
   "source": [
    "timestamp: (int64) the time in milliseconds between this user interaction and the first event completion from that user. As you can see, most interactions are from users that were not active very long on the platform yet.\n",
    "\n",
    "timestamp: (int64) このユーザーインタラクションから、そのユーザーからの最初のイベント完了までの時間（ミリ秒単位）。ご覧の通り、ほとんどのインタラクションは、まだプラットフォーム上であまり長く活動していないユーザーからのものです。"
   ]
  },
  {
   "cell_type": "code",
   "execution_count": 16,
   "metadata": {
    "_kg_hide-input": true,
    "papermill": {
     "duration": 14.35882,
     "end_time": "2020-12-17T09:50:08.348441",
     "exception": false,
     "start_time": "2020-12-17T09:49:53.989621",
     "status": "completed"
    },
    "tags": []
   },
   "outputs": [
    {
     "data": {
      "image/png": "[encoded data removed]",
      "text/plain": [
       "<Figure size 864x432 with 1 Axes>"
      ]
     },
     "metadata": {},
     "output_type": "display_data"
    }
   ],
   "source": [
    "#1 year = 31536000000 ms\n",
    "ts = train['timestamp']/(31536000000/12)\n",
    "fig = plt.figure(figsize=(12,6))\n",
    "ts.plot.hist(bins=100)\n",
    "plt.title(\"Histogram of timestamp\")\n",
    "plt.xticks(rotation=0)\n",
    "plt.xlabel(\"Months between this user interaction and the first event completion from that user\")\n",
    "plt.show()"
   ]
  },
  {
   "cell_type": "markdown",
   "metadata": {
    "papermill": {
     "duration": 0.08149,
     "end_time": "2020-12-17T09:50:08.511371",
     "exception": false,
     "start_time": "2020-12-17T09:50:08.429881",
     "status": "completed"
    },
    "tags": []
   },
   "source": [
    "Do we have the full history of all user_id's? Yes, if we filter train on timestamp==0, we get a time 0 for all users."
   ]
  },
  {
   "cell_type": "code",
   "execution_count": 17,
   "metadata": {
    "_kg_hide-input": true,
    "papermill": {
     "duration": 1.168462,
     "end_time": "2020-12-17T09:50:09.761185",
     "exception": false,
     "start_time": "2020-12-17T09:50:08.592723",
     "status": "completed"
    },
    "tags": []
   },
   "outputs": [
    {
     "name": "stdout",
     "output_type": "stream",
     "text": [
      "Of the 118097 users in train we have 118097 users with a timestamp zero row.\n"
     ]
    }
   ],
   "source": [
    "print(f'Of the {train.user_id.nunique()} users in train we have {train[train.timestamp == 0].user_id.nunique()} users with a timestamp zero row.')"
   ]
  },
  {
   "cell_type": "markdown",
   "metadata": {
    "papermill": {
     "duration": 0.082594,
     "end_time": "2020-12-17T09:50:09.925612",
     "exception": false,
     "start_time": "2020-12-17T09:50:09.843018",
     "status": "completed"
    },
    "tags": []
   },
   "source": [
    "# The target: answered_correctly\n",
    "Answered_correctly is our target, and we have to predict to probability for an answer to be correct. Without looking at the lecture interactions (-1), we see about 1/3 of the questions was answered incorrectly."
   ]
  },
  {
   "cell_type": "code",
   "execution_count": 18,
   "metadata": {
    "_kg_hide-input": true,
    "papermill": {
     "duration": 6.761291,
     "end_time": "2020-12-17T09:50:16.772571",
     "exception": false,
     "start_time": "2020-12-17T09:50:10.01128",
     "status": "completed"
    },
    "tags": []
   },
   "outputs": [
    {
     "data": {
      "image/png": "[encoded data removed]",
      "text/plain": [
       "<Figure size 864x288 with 1 Axes>"
      ]
     },
     "metadata": {},
     "output_type": "display_data"
    }
   ],
   "source": [
    "correct = train[train.answered_correctly != -1].answered_correctly.value_counts(ascending=True)\n",
    "\n",
    "fig = plt.figure(figsize=(12,4))\n",
    "correct.plot.barh()\n",
    "for i, v in zip(correct.index, correct.values):\n",
    "    plt.text(v, i, '{:,}'.format(v), color='white', fontweight='bold', fontsize=14, ha='right', va='center')\n",
    "plt.title(\"Questions answered correctly\")\n",
    "plt.xticks(rotation=0)\n",
    "plt.show()"
   ]
  },
  {
   "cell_type": "markdown",
   "metadata": {
    "papermill": {
     "duration": 0.085674,
     "end_time": "2020-12-17T09:50:16.943726",
     "exception": false,
     "start_time": "2020-12-17T09:50:16.858052",
     "status": "completed"
    },
    "tags": []
   },
   "source": [
    "I also want to find out if there is a relationship between timestamp and answered_correctly. To find out I have made 5 bins of timestamp. As you can see, the only noticable thing is that users who have registered relatively recently perform a little worse than users who are active longer."
   ]
  },
  {
   "cell_type": "code",
   "execution_count": 19,
   "metadata": {
    "_kg_hide-input": true,
    "papermill": {
     "duration": 23.77443,
     "end_time": "2020-12-17T09:50:40.805035",
     "exception": false,
     "start_time": "2020-12-17T09:50:17.030605",
     "status": "completed"
    },
    "tags": []
   },
   "outputs": [
    {
     "data": {
      "image/png": "[encoded data removed]",
      "text/plain": [
       "<Figure size 864x432 with 1 Axes>"
      ]
     },
     "metadata": {},
     "output_type": "display_data"
    }
   ],
   "source": [
    "bin_labels_5 = ['Bin_1', 'Bin_2', 'Bin_3', 'Bin_4', 'Bin_5']\n",
    "train['ts_bin'] = pd.qcut(train['timestamp'], q=5, labels=bin_labels_5)\n",
    "\n",
    "#make function that can also be used for other fields\n",
    "def correct(field):\n",
    "    correct = train[train.answered_correctly != -1].groupby([field, 'answered_correctly'], as_index=False).size()\n",
    "    correct = correct.pivot(index= field, columns='answered_correctly', values='size')\n",
    "    correct['Percent_correct'] = round(correct.iloc[:,1]/(correct.iloc[:,0] + correct.iloc[:,1]),2)\n",
    "    correct = correct.sort_values(by = \"Percent_correct\", ascending = False)\n",
    "    correct = correct.iloc[:,2]\n",
    "    return(correct)\n",
    "\n",
    "bins_correct = correct(\"ts_bin\")\n",
    "bins_correct = bins_correct.sort_index()\n",
    "\n",
    "fig = plt.figure(figsize=(12,6))\n",
    "plt.bar(bins_correct.index, bins_correct.values)\n",
    "for i, v in zip(bins_correct.index, bins_correct.values):\n",
    "    plt.text(i, v, v, color='white', fontweight='bold', fontsize=14, va='top', ha='center')\n",
    "plt.title(\"Percent answered_correctly for 5 bins of timestamp\")\n",
    "plt.xticks(rotation=0)\n",
    "plt.show()"
   ]
  },
  {
   "cell_type": "markdown",
   "metadata": {
    "papermill": {
     "duration": 0.0873,
     "end_time": "2020-12-17T09:50:40.977397",
     "exception": false,
     "start_time": "2020-12-17T09:50:40.890097",
     "status": "completed"
    },
    "tags": []
   },
   "source": [
    "Let's also check out what the distribution of answered_correctly looks like if we groupby the (10,000 unique) task_container_id's."
   ]
  },
  {
   "cell_type": "code",
   "execution_count": 20,
   "metadata": {
    "_kg_hide-input": true,
    "papermill": {
     "duration": 14.06462,
     "end_time": "2020-12-17T09:50:55.124815",
     "exception": false,
     "start_time": "2020-12-17T09:50:41.060195",
     "status": "completed"
    },
    "tags": []
   },
   "outputs": [
    {
     "data": {
      "image/png": "[encoded data removed]",
      "text/plain": [
       "<Figure size 864x432 with 1 Axes>"
      ]
     },
     "metadata": {},
     "output_type": "display_data"
    }
   ],
   "source": [
    "task_id_correct = correct(\"task_container_id\")\n",
    "\n",
    "fig = plt.figure(figsize=(12,6))\n",
    "task_id_correct.plot.hist(bins=40)\n",
    "plt.title(\"Histogram of percent_correct grouped by task_container_id\")\n",
    "plt.xticks(rotation=0)\n",
    "plt.show()"
   ]
  },
  {
   "cell_type": "markdown",
   "metadata": {
    "papermill": {
     "duration": 0.083518,
     "end_time": "2020-12-17T09:50:55.294945",
     "exception": false,
     "start_time": "2020-12-17T09:50:55.211427",
     "status": "completed"
    },
    "tags": []
   },
   "source": [
    "Below I am plotting the number of answers per user_id against the percentage of questions answered correctly (sample of 200). As some users have answered huge amounts of questions, I have taken out the outliers (user_ids with 1000+ questions answered). As you can see, the trend is upward but there is also a lot of variation among users that have answered few questions."
   ]
  },
  {
   "cell_type": "code",
   "execution_count": 21,
   "metadata": {
    "_kg_hide-input": true,
    "papermill": {
     "duration": 20.201349,
     "end_time": "2020-12-17T09:51:15.580272",
     "exception": false,
     "start_time": "2020-12-17T09:50:55.378923",
     "status": "completed"
    },
    "tags": []
   },
   "outputs": [
    {
     "name": "stdout",
     "output_type": "stream",
     "text": [
      "the highest number of questions answered by a user is 16424\n"
     ]
    }
   ],
   "source": [
    "user_percent = train[train.answered_correctly != -1].groupby('user_id')['answered_correctly'].agg(Mean='mean', Answers='count')\n",
    "print(f'the highest number of questions answered by a user is {user_percent.Answers.max()}')\n"
   ]
  },
  {
   "cell_type": "code",
   "execution_count": 22,
   "metadata": {
    "_kg_hide-input": true,
    "papermill": {
     "duration": 0.36616,
     "end_time": "2020-12-17T09:51:16.034808",
     "exception": false,
     "start_time": "2020-12-17T09:51:15.668648",
     "status": "completed"
    },
    "tags": []
   },
   "outputs": [
    {
     "data": {
      "image/png": "[encoded data removed]",
      "text/plain": [
       "<Figure size 864x432 with 1 Axes>"
      ]
     },
     "metadata": {},
     "output_type": "display_data"
    }
   ],
   "source": [
    "user_percent = user_percent.query('Answers <= 1000').sample(n=200, random_state=1)\n",
    "\n",
    "fig = plt.figure(figsize=(12,6))\n",
    "x = user_percent.Answers\n",
    "y = user_percent.Mean\n",
    "plt.scatter(x, y, marker='o')\n",
    "plt.title(\"Percent answered correctly versus number of questions answered User\")\n",
    "plt.xticks(rotation=0)\n",
    "plt.xlabel(\"Number of questions answered\")\n",
    "plt.ylabel(\"Percent answered correctly\")\n",
    "z = np.polyfit(x, y, 1)\n",
    "p = np.poly1d(z)\n",
    "plt.plot(x,p(x),\"r--\")\n",
    "\n",
    "plt.show()\n"
   ]
  },
  {
   "cell_type": "markdown",
   "metadata": {
    "papermill": {
     "duration": 0.108258,
     "end_time": "2020-12-17T09:51:16.260382",
     "exception": false,
     "start_time": "2020-12-17T09:51:16.152124",
     "status": "completed"
    },
    "tags": []
   },
   "source": [
    "Below, I am doing the same thing by content_id (is question_id for content_type is question). I am again taking a sample of 200, and have taken out the content_ids with more than 25,000 questions asked. As you can see there is a slight downward trend."
   ]
  },
  {
   "cell_type": "code",
   "execution_count": 23,
   "metadata": {
    "_kg_hide-input": true,
    "papermill": {
     "duration": 23.762823,
     "end_time": "2020-12-17T09:51:40.117255",
     "exception": false,
     "start_time": "2020-12-17T09:51:16.354432",
     "status": "completed"
    },
    "tags": []
   },
   "outputs": [
    {
     "name": "stdout",
     "output_type": "stream",
     "text": [
      "The highest number of questions asked by content_id is 64015.\n",
      "Of 13516 content_ids, 41 content_ids had more than 25,000 questions asked.\n"
     ]
    }
   ],
   "source": [
    "content_percent = train[train.answered_correctly != -1].groupby('content_id')['answered_correctly'].agg(Mean='mean', Answers='count')\n",
    "print(f'The highest number of questions asked by content_id is {content_percent.Answers.max()}.')\n",
    "print(f'Of {len(content_percent)} content_ids, {len(content_percent[content_percent.Answers > 25000])} content_ids had more than 25,000 questions asked.')"
   ]
  },
  {
   "cell_type": "code",
   "execution_count": 24,
   "metadata": {
    "_kg_hide-input": true,
    "papermill": {
     "duration": 0.289123,
     "end_time": "2020-12-17T09:51:40.495062",
     "exception": false,
     "start_time": "2020-12-17T09:51:40.205939",
     "status": "completed"
    },
    "tags": []
   },
   "outputs": [
    {
     "data": {
      "image/png": "[encoded data removed]",
      "text/plain": [
       "<Figure size 864x432 with 1 Axes>"
      ]
     },
     "metadata": {},
     "output_type": "display_data"
    }
   ],
   "source": [
    "content_percent = content_percent.query('Answers <= 25000').sample(n=200, random_state=1)\n",
    "\n",
    "fig = plt.figure(figsize=(12,6))\n",
    "x = content_percent.Answers\n",
    "y = content_percent.Mean\n",
    "plt.scatter(x, y, marker='o')\n",
    "plt.title(\"Percent answered correctly versus number of questions answered Content_id\")\n",
    "plt.xticks(rotation=0)\n",
    "plt.xlabel(\"Number of questions answered\")\n",
    "plt.ylabel(\"Percent answered correctly\")\n",
    "z = np.polyfit(x, y, 1)\n",
    "p = np.poly1d(z)\n",
    "plt.plot(x,p(x),\"r--\")\n",
    "\n",
    "plt.show()\n"
   ]
  },
  {
   "cell_type": "markdown",
   "metadata": {
    "papermill": {
     "duration": 0.087556,
     "end_time": "2020-12-17T09:51:40.670274",
     "exception": false,
     "start_time": "2020-12-17T09:51:40.582718",
     "status": "completed"
    },
    "tags": []
   },
   "source": [
    "Does it help if the 'prior_question_had_explanation'? Yes, as you can see the percent answered correctly is about 17% higher when there was an explanation. Although it is probably better to treat not having an explanation as a disadvantage as there was an explanation before the vast majority of questions.\n",
    "\n",
    "In addition, it is also interesting to see that the percent answered correctly for the missing values is closer to True than to False."
   ]
  },
  {
   "cell_type": "code",
   "execution_count": 25,
   "metadata": {
    "_kg_hide-input": true,
    "papermill": {
     "duration": 21.748301,
     "end_time": "2020-12-17T09:52:02.506822",
     "exception": false,
     "start_time": "2020-12-17T09:51:40.758521",
     "status": "completed"
    },
    "tags": []
   },
   "outputs": [
    {
     "name": "stdout",
     "output_type": "stream",
     "text": [
      "prior_question_had_explanation\n",
      "False     2767539\n",
      "True     26818850\n",
      "NaN        117776\n",
      "Name: (answered_correctly, count), dtype: int64\n"
     ]
    },
    {
     "data": {
      "image/png": "[encoded data removed]",
      "text/plain": [
       "<Figure size 864x288 with 1 Axes>"
      ]
     },
     "metadata": {},
     "output_type": "display_data"
    }
   ],
   "source": [
    "pq = train[train.answered_correctly != -1].groupby(['prior_question_had_explanation'], dropna=False).agg({'answered_correctly': ['mean', 'count']})\n",
    "#pq.index = pq.index.astype(str)\n",
    "print(pq.iloc[:,1])\n",
    "pq = pq.iloc[:,0]\n",
    "\n",
    "fig = plt.figure(figsize=(12,4))\n",
    "pq.plot.barh()\n",
    "# for i, v in zip(pq.index, pq.values):\n",
    "#     plt.text(v, i, round(v,2), color='white', fontweight='bold', fontsize=14, ha='right', va='center')\n",
    "plt.title(\"Answered_correctly versus Prior Question had explanation\")\n",
    "plt.xlabel(\"Percent answered correctly\")\n",
    "plt.ylabel(\"Prior question had explanation\")\n",
    "plt.xticks(rotation=0)\n",
    "plt.show()"
   ]
  },
  {
   "cell_type": "markdown",
   "metadata": {
    "papermill": {
     "duration": 0.089909,
     "end_time": "2020-12-17T09:52:02.685987",
     "exception": false,
     "start_time": "2020-12-17T09:52:02.596078",
     "status": "completed"
    },
    "tags": []
   },
   "source": [
    "prior_question_elapsed_time: (float32) The average time in milliseconds it took a user to answer each question in the previous question bundle, ignoring any lectures in between. Is null for a user's first question bundle or lecture. Note that the time is the average time a user took to solve each question in the previous bundle.\n",
    "\n",
    "At first glance, this does not seem very interesting regarding our target. For both wrong and correct answers, the mean is about 25 seconds."
   ]
  },
  {
   "cell_type": "code",
   "execution_count": 26,
   "metadata": {
    "_kg_hide-input": true,
    "papermill": {
     "duration": 20.671025,
     "end_time": "2020-12-17T09:52:23.445971",
     "exception": false,
     "start_time": "2020-12-17T09:52:02.774946",
     "status": "completed"
    },
    "tags": []
   },
   "outputs": [
    {
     "data": {
      "text/html": [
       "<div>\n",
       "<style scoped>\n",
       "    .dataframe tbody tr th:only-of-type {\n",
       "        vertical-align: middle;\n",
       "    }\n",
       "\n",
       "    .dataframe tbody tr th {\n",
       "        vertical-align: top;\n",
       "    }\n",
       "\n",
       "    .dataframe thead tr th {\n",
       "        text-align: left;\n",
       "    }\n",
       "\n",
       "    .dataframe thead tr:last-of-type th {\n",
       "        text-align: right;\n",
       "    }\n",
       "</style>\n",
       "<table border=\"1\" class=\"dataframe\">\n",
       "  <thead>\n",
       "    <tr>\n",
       "      <th></th>\n",
       "      <th>answered_correctly</th>\n",
       "      <th>prior_question_elapsed_time</th>\n",
       "    </tr>\n",
       "    <tr>\n",
       "      <th></th>\n",
       "      <th>count</th>\n",
       "      <th>mean</th>\n",
       "    </tr>\n",
       "    <tr>\n",
       "      <th>answered_correctly</th>\n",
       "      <th></th>\n",
       "      <th></th>\n",
       "    </tr>\n",
       "  </thead>\n",
       "  <tbody>\n",
       "    <tr>\n",
       "      <th>0</th>\n",
       "      <td>10172801</td>\n",
       "      <td>25784.882812</td>\n",
       "    </tr>\n",
       "    <tr>\n",
       "      <th>1</th>\n",
       "      <td>19531364</td>\n",
       "      <td>25397.476562</td>\n",
       "    </tr>\n",
       "  </tbody>\n",
       "</table>\n",
       "</div>"
      ],
      "text/plain": [
       "                   answered_correctly prior_question_elapsed_time\n",
       "                                count                        mean\n",
       "answered_correctly                                               \n",
       "0                            10172801                25784.882812\n",
       "1                            19531364                25397.476562"
      ]
     },
     "execution_count": 26,
     "metadata": {},
     "output_type": "execute_result"
    }
   ],
   "source": [
    "pq = train[train.answered_correctly != -1]\n",
    "pq = pq[['prior_question_elapsed_time', 'answered_correctly']]\n",
    "pq = pq.groupby(['answered_correctly']).agg({'answered_correctly': ['count'], 'prior_question_elapsed_time': ['mean']})\n",
    "\n",
    "pq"
   ]
  },
  {
   "cell_type": "markdown",
   "metadata": {
    "papermill": {
     "duration": 0.088729,
     "end_time": "2020-12-17T09:52:23.626325",
     "exception": false,
     "start_time": "2020-12-17T09:52:23.537596",
     "status": "completed"
    },
    "tags": []
   },
   "source": [
    "However, as the feature works with regards to the CV (see Baseline model), I also wanted to find out if there is a trend. Below, I have taken a sample of 200 rows. As you can see, there is s slightly downward trend."
   ]
  },
  {
   "cell_type": "code",
   "execution_count": 27,
   "metadata": {
    "_kg_hide-input": true,
    "papermill": {
     "duration": 12.410783,
     "end_time": "2020-12-17T09:52:36.127151",
     "exception": false,
     "start_time": "2020-12-17T09:52:23.716368",
     "status": "completed"
    },
    "tags": []
   },
   "outputs": [
    {
     "data": {
      "image/png": "[encoded data removed]",
      "text/plain": [
       "<Figure size 864x432 with 1 Axes>"
      ]
     },
     "metadata": {},
     "output_type": "display_data"
    }
   ],
   "source": [
    "#please be aware that there is an issues with train.prior_question_elapsed_time.mean()\n",
    "#see https://www.kaggle.com/c/riiid-test-answer-prediction/discussion/195032\n",
    "mean_pq = train.prior_question_elapsed_time.astype(\"float64\").mean()\n",
    "\n",
    "condition = ((train.answered_correctly != -1) & (train.prior_question_elapsed_time.notna()))\n",
    "pq = train[condition][['prior_question_elapsed_time', 'answered_correctly']].sample(n=200, random_state=1)\n",
    "pq = pq.set_index('prior_question_elapsed_time').iloc[:,0]\n",
    "\n",
    "fig = plt.figure(figsize=(12,6))\n",
    "x = pq.index\n",
    "y = pq.values\n",
    "plt.scatter(x, y, marker='o')\n",
    "plt.title(\"Answered_correctly versus prior_question_elapsed_time\")\n",
    "plt.xticks(rotation=0)\n",
    "plt.xlabel(\"Prior_question_elapsed_time\")\n",
    "plt.ylabel(\"Answered_correctly\")\n",
    "plt.vlines(mean_pq, ymin=-0.1, ymax=1.1)\n",
    "plt.text(x= 27000, y=0.4, s='mean')\n",
    "plt.text(x=80000, y=0.6, s='trend')\n",
    "z = np.polyfit(x, y, 1)\n",
    "p = np.poly1d(z)\n",
    "plt.plot(x,p(x),\"r--\")\n",
    "plt.show()"
   ]
  },
  {
   "cell_type": "markdown",
   "metadata": {
    "papermill": {
     "duration": 0.091554,
     "end_time": "2020-12-17T09:52:36.313083",
     "exception": false,
     "start_time": "2020-12-17T09:52:36.221529",
     "status": "completed"
    },
    "tags": []
   },
   "source": [
    "# 1.2 Exploring Questions\n",
    "\n",
    "Metadata for the questions posed to users.\n",
    "\n",
    "* question_id: foreign key for the train/test content_id column, when the content type is question (0).\n",
    "* bundle_id: code for which questions are served together.\n",
    "* correct_answer: the answer to the question. Can be compared with the train user_answer column to check if the user was right.\n",
    "* part: the relevant section of the TOEIC test.\n",
    "* tags: one or more detailed tag codes for the question. The meaning of the tags will not be provided, but these codes are sufficient for clustering the questions together.\n"
   ]
  },
  {
   "cell_type": "code",
   "execution_count": 28,
   "metadata": {
    "papermill": {
     "duration": 0.109456,
     "end_time": "2020-12-17T09:52:36.514818",
     "exception": false,
     "start_time": "2020-12-17T09:52:36.405362",
     "status": "completed"
    },
    "tags": []
   },
   "outputs": [
    {
     "data": {
      "text/html": [
       "<div>\n",
       "<style scoped>\n",
       "    .dataframe tbody tr th:only-of-type {\n",
       "        vertical-align: middle;\n",
       "    }\n",
       "\n",
       "    .dataframe tbody tr th {\n",
       "        vertical-align: top;\n",
       "    }\n",
       "\n",
       "    .dataframe thead th {\n",
       "        text-align: right;\n",
       "    }\n",
       "</style>\n",
       "<table border=\"1\" class=\"dataframe\">\n",
       "  <thead>\n",
       "    <tr style=\"text-align: right;\">\n",
       "      <th></th>\n",
       "      <th>question_id</th>\n",
       "      <th>bundle_id</th>\n",
       "      <th>correct_answer</th>\n",
       "      <th>part</th>\n",
       "      <th>tags</th>\n",
       "    </tr>\n",
       "  </thead>\n",
       "  <tbody>\n",
       "    <tr>\n",
       "      <th>0</th>\n",
       "      <td>0</td>\n",
       "      <td>0</td>\n",
       "      <td>0</td>\n",
       "      <td>1</td>\n",
       "      <td>51 131 162 38</td>\n",
       "    </tr>\n",
       "    <tr>\n",
       "      <th>1</th>\n",
       "      <td>1</td>\n",
       "      <td>1</td>\n",
       "      <td>1</td>\n",
       "      <td>1</td>\n",
       "      <td>131 36 81</td>\n",
       "    </tr>\n",
       "    <tr>\n",
       "      <th>2</th>\n",
       "      <td>2</td>\n",
       "      <td>2</td>\n",
       "      <td>0</td>\n",
       "      <td>1</td>\n",
       "      <td>131 101 162 92</td>\n",
       "    </tr>\n",
       "    <tr>\n",
       "      <th>3</th>\n",
       "      <td>3</td>\n",
       "      <td>3</td>\n",
       "      <td>0</td>\n",
       "      <td>1</td>\n",
       "      <td>131 149 162 29</td>\n",
       "    </tr>\n",
       "    <tr>\n",
       "      <th>4</th>\n",
       "      <td>4</td>\n",
       "      <td>4</td>\n",
       "      <td>3</td>\n",
       "      <td>1</td>\n",
       "      <td>131 5 162 38</td>\n",
       "    </tr>\n",
       "  </tbody>\n",
       "</table>\n",
       "</div>"
      ],
      "text/plain": [
       "   question_id  bundle_id  correct_answer  part            tags\n",
       "0            0          0               0     1   51 131 162 38\n",
       "1            1          1               1     1       131 36 81\n",
       "2            2          2               0     1  131 101 162 92\n",
       "3            3          3               0     1  131 149 162 29\n",
       "4            4          4               3     1    131 5 162 38"
      ]
     },
     "execution_count": 28,
     "metadata": {},
     "output_type": "execute_result"
    }
   ],
   "source": [
    "questions.head()"
   ]
  },
  {
   "cell_type": "code",
   "execution_count": 29,
   "metadata": {
    "papermill": {
     "duration": 0.10389,
     "end_time": "2020-12-17T09:52:36.711367",
     "exception": false,
     "start_time": "2020-12-17T09:52:36.607477",
     "status": "completed"
    },
    "tags": []
   },
   "outputs": [
    {
     "data": {
      "text/plain": [
       "(13523, 5)"
      ]
     },
     "execution_count": 29,
     "metadata": {},
     "output_type": "execute_result"
    }
   ],
   "source": [
    "questions.shape"
   ]
  },
  {
   "cell_type": "markdown",
   "metadata": {
    "papermill": {
     "duration": 0.09225,
     "end_time": "2020-12-17T09:52:36.896139",
     "exception": false,
     "start_time": "2020-12-17T09:52:36.803889",
     "status": "completed"
    },
    "tags": []
   },
   "source": [
    "The tags seem valuable to me. First, let's check if there are any question_id's without tags. As you can see, there is exactly one question_id without at least one tag. Not a big deal, but we need to keep in mind that we have to impute something here if we make features based on tags."
   ]
  },
  {
   "cell_type": "code",
   "execution_count": 30,
   "metadata": {
    "_kg_hide-input": true,
    "papermill": {
     "duration": 0.114798,
     "end_time": "2020-12-17T09:52:37.105354",
     "exception": false,
     "start_time": "2020-12-17T09:52:36.990556",
     "status": "completed"
    },
    "tags": []
   },
   "outputs": [
    {
     "data": {
      "text/html": [
       "<div>\n",
       "<style scoped>\n",
       "    .dataframe tbody tr th:only-of-type {\n",
       "        vertical-align: middle;\n",
       "    }\n",
       "\n",
       "    .dataframe tbody tr th {\n",
       "        vertical-align: top;\n",
       "    }\n",
       "\n",
       "    .dataframe thead th {\n",
       "        text-align: right;\n",
       "    }\n",
       "</style>\n",
       "<table border=\"1\" class=\"dataframe\">\n",
       "  <thead>\n",
       "    <tr style=\"text-align: right;\">\n",
       "      <th></th>\n",
       "      <th>question_id</th>\n",
       "      <th>bundle_id</th>\n",
       "      <th>correct_answer</th>\n",
       "      <th>part</th>\n",
       "      <th>tags</th>\n",
       "    </tr>\n",
       "  </thead>\n",
       "  <tbody>\n",
       "    <tr>\n",
       "      <th>10033</th>\n",
       "      <td>10033</td>\n",
       "      <td>10033</td>\n",
       "      <td>2</td>\n",
       "      <td>6</td>\n",
       "      <td>NaN</td>\n",
       "    </tr>\n",
       "  </tbody>\n",
       "</table>\n",
       "</div>"
      ],
      "text/plain": [
       "       question_id  bundle_id  correct_answer  part tags\n",
       "10033        10033      10033               2     6  NaN"
      ]
     },
     "execution_count": 30,
     "metadata": {},
     "output_type": "execute_result"
    }
   ],
   "source": [
    "questions[questions.tags.isna()]"
   ]
  },
  {
   "cell_type": "markdown",
   "metadata": {
    "papermill": {
     "duration": 0.092296,
     "end_time": "2020-12-17T09:52:37.290764",
     "exception": false,
     "start_time": "2020-12-17T09:52:37.198468",
     "status": "completed"
    },
    "tags": []
   },
   "source": [
    "Also.....when looking at train, we see that this question was just asked once ;-). "
   ]
  },
  {
   "cell_type": "code",
   "execution_count": 31,
   "metadata": {
    "_kg_hide-input": true,
    "papermill": {
     "duration": 1.320893,
     "end_time": "2020-12-17T09:52:38.706453",
     "exception": false,
     "start_time": "2020-12-17T09:52:37.38556",
     "status": "completed"
    },
    "tags": []
   },
   "outputs": [
    {
     "data": {
      "text/html": [
       "<div>\n",
       "<style scoped>\n",
       "    .dataframe tbody tr th:only-of-type {\n",
       "        vertical-align: middle;\n",
       "    }\n",
       "\n",
       "    .dataframe tbody tr th {\n",
       "        vertical-align: top;\n",
       "    }\n",
       "\n",
       "    .dataframe thead th {\n",
       "        text-align: right;\n",
       "    }\n",
       "</style>\n",
       "<table border=\"1\" class=\"dataframe\">\n",
       "  <thead>\n",
       "    <tr style=\"text-align: right;\">\n",
       "      <th></th>\n",
       "      <th>row_id</th>\n",
       "      <th>timestamp</th>\n",
       "      <th>user_id</th>\n",
       "      <th>content_id</th>\n",
       "      <th>content_type_id</th>\n",
       "      <th>task_container_id</th>\n",
       "      <th>user_answer</th>\n",
       "      <th>answered_correctly</th>\n",
       "      <th>prior_question_elapsed_time</th>\n",
       "      <th>prior_question_had_explanation</th>\n",
       "      <th>ts_bin</th>\n",
       "    </tr>\n",
       "  </thead>\n",
       "  <tbody>\n",
       "  </tbody>\n",
       "</table>\n",
       "</div>"
      ],
      "text/plain": [
       "Empty DataFrame\n",
       "Columns: [row_id, timestamp, user_id, content_id, content_type_id, task_container_id, user_answer, answered_correctly, prior_question_elapsed_time, prior_question_had_explanation, ts_bin]\n",
       "Index: []"
      ]
     },
     "execution_count": 31,
     "metadata": {},
     "output_type": "execute_result"
    }
   ],
   "source": [
    "train.query('content_id == \"10033\" and answered_correctly != -1')"
   ]
  },
  {
   "cell_type": "code",
   "execution_count": 32,
   "metadata": {
    "_kg_hide-input": true,
    "papermill": {
     "duration": 0.253063,
     "end_time": "2020-12-17T09:52:39.056844",
     "exception": false,
     "start_time": "2020-12-17T09:52:38.803781",
     "status": "completed"
    },
    "tags": []
   },
   "outputs": [
    {
     "name": "stdout",
     "output_type": "stream",
     "text": [
      "There are 188 different tags\n"
     ]
    }
   ],
   "source": [
    "questions['tags'] = questions['tags'].astype(str)\n",
    "\n",
    "tags = [x.split() for x in questions[questions.tags != \"nan\"].tags.values]\n",
    "tags = [item for elem in tags for item in elem]\n",
    "tags = set(tags)\n",
    "tags = list(tags)\n",
    "print(f'There are {len(tags)} different tags')"
   ]
  },
  {
   "cell_type": "markdown",
   "metadata": {
    "papermill": {
     "duration": 0.094224,
     "end_time": "2020-12-17T09:52:39.247308",
     "exception": false,
     "start_time": "2020-12-17T09:52:39.153084",
     "status": "completed"
    },
    "tags": []
   },
   "source": [
    "Let's find out how many answers were Right and Wrong per question_id (so per content_id in train)."
   ]
  },
  {
   "cell_type": "code",
   "execution_count": 33,
   "metadata": {
    "_kg_hide-input": true,
    "papermill": {
     "duration": 14.205475,
     "end_time": "2020-12-17T09:52:53.546413",
     "exception": false,
     "start_time": "2020-12-17T09:52:39.340938",
     "status": "completed"
    },
    "tags": []
   },
   "outputs": [
    {
     "data": {
      "text/html": [
       "<div>\n",
       "<style scoped>\n",
       "    .dataframe tbody tr th:only-of-type {\n",
       "        vertical-align: middle;\n",
       "    }\n",
       "\n",
       "    .dataframe tbody tr th {\n",
       "        vertical-align: top;\n",
       "    }\n",
       "\n",
       "    .dataframe thead th {\n",
       "        text-align: right;\n",
       "    }\n",
       "</style>\n",
       "<table border=\"1\" class=\"dataframe\">\n",
       "  <thead>\n",
       "    <tr style=\"text-align: right;\">\n",
       "      <th></th>\n",
       "      <th>question_id</th>\n",
       "      <th>bundle_id</th>\n",
       "      <th>correct_answer</th>\n",
       "      <th>part</th>\n",
       "      <th>tags</th>\n",
       "      <th>Wrong</th>\n",
       "      <th>Right</th>\n",
       "    </tr>\n",
       "  </thead>\n",
       "  <tbody>\n",
       "    <tr>\n",
       "      <th>0</th>\n",
       "      <td>0</td>\n",
       "      <td>0</td>\n",
       "      <td>0</td>\n",
       "      <td>1</td>\n",
       "      <td>[51, 131, 162, 38]</td>\n",
       "      <td>198.0</td>\n",
       "      <td>1952.0</td>\n",
       "    </tr>\n",
       "    <tr>\n",
       "      <th>1</th>\n",
       "      <td>1</td>\n",
       "      <td>1</td>\n",
       "      <td>1</td>\n",
       "      <td>1</td>\n",
       "      <td>[131, 36, 81]</td>\n",
       "      <td>261.0</td>\n",
       "      <td>2035.0</td>\n",
       "    </tr>\n",
       "    <tr>\n",
       "      <th>2</th>\n",
       "      <td>2</td>\n",
       "      <td>2</td>\n",
       "      <td>0</td>\n",
       "      <td>1</td>\n",
       "      <td>[131, 101, 162, 92]</td>\n",
       "      <td>5885.0</td>\n",
       "      <td>7462.0</td>\n",
       "    </tr>\n",
       "    <tr>\n",
       "      <th>3</th>\n",
       "      <td>3</td>\n",
       "      <td>3</td>\n",
       "      <td>0</td>\n",
       "      <td>1</td>\n",
       "      <td>[131, 149, 162, 29]</td>\n",
       "      <td>1521.0</td>\n",
       "      <td>5445.0</td>\n",
       "    </tr>\n",
       "    <tr>\n",
       "      <th>4</th>\n",
       "      <td>4</td>\n",
       "      <td>4</td>\n",
       "      <td>3</td>\n",
       "      <td>1</td>\n",
       "      <td>[131, 5, 162, 38]</td>\n",
       "      <td>3726.0</td>\n",
       "      <td>5792.0</td>\n",
       "    </tr>\n",
       "  </tbody>\n",
       "</table>\n",
       "</div>"
      ],
      "text/plain": [
       "   question_id  bundle_id  correct_answer  part                 tags   Wrong  \\\n",
       "0            0          0               0     1   [51, 131, 162, 38]   198.0   \n",
       "1            1          1               1     1        [131, 36, 81]   261.0   \n",
       "2            2          2               0     1  [131, 101, 162, 92]  5885.0   \n",
       "3            3          3               0     1  [131, 149, 162, 29]  1521.0   \n",
       "4            4          4               3     1    [131, 5, 162, 38]  3726.0   \n",
       "\n",
       "    Right  \n",
       "0  1952.0  \n",
       "1  2035.0  \n",
       "2  7462.0  \n",
       "3  5445.0  \n",
       "4  5792.0  "
      ]
     },
     "execution_count": 33,
     "metadata": {},
     "output_type": "execute_result"
    }
   ],
   "source": [
    "tags_list = [x.split() for x in questions.tags.values]\n",
    "questions['tags'] = tags_list\n",
    "questions.head()\n",
    "\n",
    "correct = train[train.answered_correctly != -1].groupby([\"content_id\", 'answered_correctly'], as_index=False).size()\n",
    "correct = correct.pivot(index= \"content_id\", columns='answered_correctly', values='size')\n",
    "correct.columns = ['Wrong', 'Right']\n",
    "correct = correct.fillna(0)\n",
    "correct[['Wrong', 'Right']] = correct[['Wrong', 'Right']].astype(int)\n",
    "questions = questions.merge(correct, left_on = \"question_id\", right_on = \"content_id\", how = \"left\")\n",
    "questions.head()"
   ]
  },
  {
   "cell_type": "markdown",
   "metadata": {
    "papermill": {
     "duration": 0.095807,
     "end_time": "2020-12-17T09:52:53.737183",
     "exception": false,
     "start_time": "2020-12-17T09:52:53.641376",
     "status": "completed"
    },
    "tags": []
   },
   "source": [
    "As you can see, I have also changed the tags column into lists of tags."
   ]
  },
  {
   "cell_type": "code",
   "execution_count": 34,
   "metadata": {
    "papermill": {
     "duration": 0.106004,
     "end_time": "2020-12-17T09:52:53.93825",
     "exception": false,
     "start_time": "2020-12-17T09:52:53.832246",
     "status": "completed"
    },
    "tags": []
   },
   "outputs": [
    {
     "data": {
      "text/plain": [
       "array([list(['51', '131', '162', '38']), list(['131', '36', '81']),\n",
       "       list(['131', '101', '162', '92']), ..., list(['73']),\n",
       "       list(['125']), list(['55'])], dtype=object)"
      ]
     },
     "execution_count": 34,
     "metadata": {},
     "output_type": "execute_result"
    }
   ],
   "source": [
    "questions.tags.values"
   ]
  },
  {
   "cell_type": "markdown",
   "metadata": {
    "papermill": {
     "duration": 0.096982,
     "end_time": "2020-12-17T09:52:54.131338",
     "exception": false,
     "start_time": "2020-12-17T09:52:54.034356",
     "status": "completed"
    },
    "tags": []
   },
   "source": [
    "Now, I can add up all Wrong and Right answers for all questions that are labeled with a particular tag and calculate the percent correct for each tag. Please note that there is \"double counting\" of questions; for instance if a question has 5 tags, its answers are aggregated in the totals of each of the 5 tags. "
   ]
  },
  {
   "cell_type": "code",
   "execution_count": 35,
   "metadata": {
    "papermill": {
     "duration": 2.462101,
     "end_time": "2020-12-17T09:52:56.688564",
     "exception": false,
     "start_time": "2020-12-17T09:52:54.226463",
     "status": "completed"
    },
    "tags": []
   },
   "outputs": [
    {
     "name": "stdout",
     "output_type": "stream",
     "text": [
      "CPU times: user 1.42 s, sys: 254 µs, total: 1.42 s\n",
      "Wall time: 1.42 s\n"
     ]
    },
    {
     "data": {
      "text/html": [
       "<div>\n",
       "<style scoped>\n",
       "    .dataframe tbody tr th:only-of-type {\n",
       "        vertical-align: middle;\n",
       "    }\n",
       "\n",
       "    .dataframe tbody tr th {\n",
       "        vertical-align: top;\n",
       "    }\n",
       "\n",
       "    .dataframe thead th {\n",
       "        text-align: right;\n",
       "    }\n",
       "</style>\n",
       "<table border=\"1\" class=\"dataframe\">\n",
       "  <thead>\n",
       "    <tr style=\"text-align: right;\">\n",
       "      <th></th>\n",
       "      <th>Wrong</th>\n",
       "      <th>Right</th>\n",
       "      <th>Total_questions</th>\n",
       "      <th>Question_ids_with_tag</th>\n",
       "      <th>Percent_correct</th>\n",
       "    </tr>\n",
       "    <tr>\n",
       "      <th>tag</th>\n",
       "      <th></th>\n",
       "      <th></th>\n",
       "      <th></th>\n",
       "      <th></th>\n",
       "      <th></th>\n",
       "    </tr>\n",
       "  </thead>\n",
       "  <tbody>\n",
       "    <tr>\n",
       "      <th>24</th>\n",
       "      <td>46828</td>\n",
       "      <td>29812</td>\n",
       "      <td>76640</td>\n",
       "      <td>17</td>\n",
       "      <td>0.388987</td>\n",
       "    </tr>\n",
       "    <tr>\n",
       "      <th>23</th>\n",
       "      <td>78720</td>\n",
       "      <td>61147</td>\n",
       "      <td>139867</td>\n",
       "      <td>11</td>\n",
       "      <td>0.437180</td>\n",
       "    </tr>\n",
       "    <tr>\n",
       "      <th>19</th>\n",
       "      <td>51474</td>\n",
       "      <td>40828</td>\n",
       "      <td>92302</td>\n",
       "      <td>57</td>\n",
       "      <td>0.442331</td>\n",
       "    </tr>\n",
       "    <tr>\n",
       "      <th>151</th>\n",
       "      <td>81668</td>\n",
       "      <td>79453</td>\n",
       "      <td>161121</td>\n",
       "      <td>16</td>\n",
       "      <td>0.493126</td>\n",
       "    </tr>\n",
       "    <tr>\n",
       "      <th>167</th>\n",
       "      <td>51322</td>\n",
       "      <td>51183</td>\n",
       "      <td>102505</td>\n",
       "      <td>11</td>\n",
       "      <td>0.499322</td>\n",
       "    </tr>\n",
       "  </tbody>\n",
       "</table>\n",
       "</div>"
      ],
      "text/plain": [
       "     Wrong  Right  Total_questions  Question_ids_with_tag  Percent_correct\n",
       "tag                                                                       \n",
       "24   46828  29812            76640                     17         0.388987\n",
       "23   78720  61147           139867                     11         0.437180\n",
       "19   51474  40828            92302                     57         0.442331\n",
       "151  81668  79453           161121                     16         0.493126\n",
       "167  51322  51183           102505                     11         0.499322"
      ]
     },
     "execution_count": 35,
     "metadata": {},
     "output_type": "execute_result"
    }
   ],
   "source": [
    "%%time\n",
    "\n",
    "tags_df = pd.DataFrame()\n",
    "for x in range(len(tags)):\n",
    "    df = questions[questions.tags.apply(lambda l: tags[x] in l)]\n",
    "    df1 = df.agg({'Wrong': ['sum'], 'Right': ['sum']})\n",
    "    df1['Total_questions'] = df1.Wrong + df1.Right\n",
    "    df1['Question_ids_with_tag'] = len(df)\n",
    "    df1['tag'] = tags[x]\n",
    "    df1 = df1.set_index('tag')\n",
    "    tags_df = tags_df.append(df1)\n",
    "\n",
    "tags_df[['Wrong', 'Right', 'Total_questions']] = tags_df[['Wrong', 'Right', 'Total_questions']].astype(int)\n",
    "tags_df['Percent_correct'] = tags_df.Right/tags_df.Total_questions\n",
    "tags_df = tags_df.sort_values(by = \"Percent_correct\")\n",
    "\n",
    "tags_df.head()"
   ]
  },
  {
   "cell_type": "markdown",
   "metadata": {
    "papermill": {
     "duration": 0.099623,
     "end_time": "2020-12-17T09:52:56.883279",
     "exception": false,
     "start_time": "2020-12-17T09:52:56.783656",
     "status": "completed"
    },
    "tags": []
   },
   "source": [
    "As you can see, the differences are significant!"
   ]
  },
  {
   "cell_type": "code",
   "execution_count": 36,
   "metadata": {
    "_kg_hide-input": true,
    "papermill": {
     "duration": 0.342496,
     "end_time": "2020-12-17T09:52:57.322357",
     "exception": false,
     "start_time": "2020-12-17T09:52:56.979861",
     "status": "completed"
    },
    "tags": []
   },
   "outputs": [
    {
     "data": {
      "image/png": "[encoded data removed]",
      "text/plain": [
       "<Figure size 864x432 with 1 Axes>"
      ]
     },
     "metadata": {},
     "output_type": "display_data"
    }
   ],
   "source": [
    "select_rows = list(range(0,10)) + list(range(178, len(tags_df)))\n",
    "tags_select = tags_df.iloc[select_rows,4]\n",
    "\n",
    "fig = plt.figure(figsize=(12,6))\n",
    "x = tags_select.index\n",
    "y = tags_select.values\n",
    "clrs = ['red' if y < 0.6 else 'green' for y in tags_select.values]\n",
    "tags_select.plot.bar(x, y, color=clrs)\n",
    "plt.title(\"Ten hardest and ten easiest tags\")\n",
    "plt.xlabel(\"Tag\")\n",
    "plt.ylabel(\"Percent answers correct of questions with the tag\")\n",
    "plt.xticks(rotation=90)\n",
    "plt.show()"
   ]
  },
  {
   "cell_type": "markdown",
   "metadata": {
    "papermill": {
     "duration": 0.101594,
     "end_time": "2020-12-17T09:52:57.521122",
     "exception": false,
     "start_time": "2020-12-17T09:52:57.419528",
     "status": "completed"
    },
    "tags": []
   },
   "source": [
    "However, we should also realize that the tag with the worst percent_correct only has about 250,000 answers. This a low number compared to the tags with most answers."
   ]
  },
  {
   "cell_type": "code",
   "execution_count": 37,
   "metadata": {
    "_kg_hide-input": true,
    "papermill": {
     "duration": 0.396702,
     "end_time": "2020-12-17T09:52:58.015015",
     "exception": false,
     "start_time": "2020-12-17T09:52:57.618313",
     "status": "completed"
    },
    "tags": []
   },
   "outputs": [
    {
     "data": {
      "image/png": "[encoded data removed]",
      "text/plain": [
       "<Figure size 864x432 with 1 Axes>"
      ]
     },
     "metadata": {},
     "output_type": "display_data"
    }
   ],
   "source": [
    "tags_select = tags_df.sort_values(by = \"Total_questions\", ascending = False).iloc[:30,:]\n",
    "tags_select = tags_select[\"Total_questions\"]\n",
    "\n",
    "fig = plt.figure(figsize=(12,6))\n",
    "ax = tags_select.plot.bar()\n",
    "plt.title(\"Thirty tags with most questions answered\")\n",
    "plt.xticks(rotation=90)\n",
    "plt.ticklabel_format(style='plain', axis='y')\n",
    "ax.get_yaxis().set_major_formatter(FuncFormatter(lambda x, p: format(int(x), ','))) #add thousands separator\n",
    "plt.show()"
   ]
  },
  {
   "cell_type": "markdown",
   "metadata": {
    "papermill": {
     "duration": 0.099893,
     "end_time": "2020-12-17T09:52:58.213189",
     "exception": false,
     "start_time": "2020-12-17T09:52:58.113296",
     "status": "completed"
    },
    "tags": []
   },
   "source": [
    "What are the so-called \"Parts\"? When following the link provided in the data description we find out that this relates to a test.\n",
    "\n",
    "> The TOEIC L&R uses an optically-scanned answer sheet. There are 200 questions to answer in two hours in Listening (approximately 45 minutes, 100 questions) and Reading (75 minutes, 100 questions). \n",
    "\n",
    "The listening section consists of Part 1-4 (Listening Section (approx. 45 minutes, 100 questions)).\n",
    "\n",
    "The reading section consists of Part 5-7 (Reading Section (75 minutes, 100 questions))."
   ]
  },
  {
   "cell_type": "markdown",
   "metadata": {
    "papermill": {
     "duration": 0.097774,
     "end_time": "2020-12-17T09:52:58.409349",
     "exception": false,
     "start_time": "2020-12-17T09:52:58.311575",
     "status": "completed"
    },
    "tags": []
   },
   "source": [
    "Below, I am displaying the count and percent correct by part. As you can see, Part 5 has a lot more question_id's and is also the most difficult."
   ]
  },
  {
   "cell_type": "code",
   "execution_count": 38,
   "metadata": {
    "_kg_hide-input": true,
    "papermill": {
     "duration": 0.483854,
     "end_time": "2020-12-17T09:52:58.991167",
     "exception": false,
     "start_time": "2020-12-17T09:52:58.507313",
     "status": "completed"
    },
    "tags": []
   },
   "outputs": [
    {
     "data": {
      "image/png": "[encoded data removed]",
      "text/plain": [
       "<Figure size 864x576 with 2 Axes>"
      ]
     },
     "metadata": {},
     "output_type": "display_data"
    }
   ],
   "source": [
    "fig = plt.figure(figsize=(12,8))\n",
    "ax1 = fig.add_subplot(211)\n",
    "ax1 = questions.groupby(\"part\").count()['question_id'].plot.bar()\n",
    "plt.title(\"Counts of part\")\n",
    "plt.xlabel(\"Part\")\n",
    "plt.xticks(rotation=0)\n",
    "\n",
    "part = questions.groupby('part').agg({'Wrong': ['sum'], 'Right': ['sum']})\n",
    "part['Percent_correct'] = part.Right/(part.Right + part.Wrong)\n",
    "part = part.iloc[:,2]\n",
    "\n",
    "ax2 = fig.add_subplot(212)\n",
    "plt.bar(part.index, part.values)\n",
    "for i, v in zip(part.index, part.values):\n",
    "    plt.text(i, v, round(v,2), color='white', fontweight='bold', fontsize=14, va='top', ha='center')\n",
    "\n",
    "plt.title(\"Percent_correct by part\")\n",
    "plt.xlabel(\"Part\")\n",
    "plt.xticks(rotation=0)\n",
    "plt.tight_layout(pad=2)\n",
    "plt.show()"
   ]
  },
  {
   "cell_type": "markdown",
   "metadata": {
    "papermill": {
     "duration": 0.106104,
     "end_time": "2020-12-17T09:52:59.197361",
     "exception": false,
     "start_time": "2020-12-17T09:52:59.091257",
     "status": "completed"
    },
    "tags": []
   },
   "source": [
    "# 1.3 Exploring Lectures\n",
    "\n",
    "Metadata for the lectures watched by users as they progress in their education.\n",
    "* lecture_id: foreign key for the train/test content_id column, when the content type is lecture (1).\n",
    "* part: top level category code for the lecture.\n",
    "* tag: one tag codes for the lecture. The meaning of the tags will not be provided, but these codes are sufficient for clustering the lectures together.\n",
    "* type_of: brief description of the core purpose of the lecture\n"
   ]
  },
  {
   "cell_type": "code",
   "execution_count": 39,
   "metadata": {
    "papermill": {
     "duration": 0.115846,
     "end_time": "2020-12-17T09:52:59.412895",
     "exception": false,
     "start_time": "2020-12-17T09:52:59.297049",
     "status": "completed"
    },
    "tags": []
   },
   "outputs": [
    {
     "data": {
      "text/html": [
       "<div>\n",
       "<style scoped>\n",
       "    .dataframe tbody tr th:only-of-type {\n",
       "        vertical-align: middle;\n",
       "    }\n",
       "\n",
       "    .dataframe tbody tr th {\n",
       "        vertical-align: top;\n",
       "    }\n",
       "\n",
       "    .dataframe thead th {\n",
       "        text-align: right;\n",
       "    }\n",
       "</style>\n",
       "<table border=\"1\" class=\"dataframe\">\n",
       "  <thead>\n",
       "    <tr style=\"text-align: right;\">\n",
       "      <th></th>\n",
       "      <th>lecture_id</th>\n",
       "      <th>tag</th>\n",
       "      <th>part</th>\n",
       "      <th>type_of</th>\n",
       "    </tr>\n",
       "  </thead>\n",
       "  <tbody>\n",
       "    <tr>\n",
       "      <th>0</th>\n",
       "      <td>89</td>\n",
       "      <td>159</td>\n",
       "      <td>5</td>\n",
       "      <td>concept</td>\n",
       "    </tr>\n",
       "    <tr>\n",
       "      <th>1</th>\n",
       "      <td>100</td>\n",
       "      <td>70</td>\n",
       "      <td>1</td>\n",
       "      <td>concept</td>\n",
       "    </tr>\n",
       "    <tr>\n",
       "      <th>2</th>\n",
       "      <td>185</td>\n",
       "      <td>45</td>\n",
       "      <td>6</td>\n",
       "      <td>concept</td>\n",
       "    </tr>\n",
       "    <tr>\n",
       "      <th>3</th>\n",
       "      <td>192</td>\n",
       "      <td>79</td>\n",
       "      <td>5</td>\n",
       "      <td>solving question</td>\n",
       "    </tr>\n",
       "    <tr>\n",
       "      <th>4</th>\n",
       "      <td>317</td>\n",
       "      <td>156</td>\n",
       "      <td>5</td>\n",
       "      <td>solving question</td>\n",
       "    </tr>\n",
       "  </tbody>\n",
       "</table>\n",
       "</div>"
      ],
      "text/plain": [
       "   lecture_id  tag  part           type_of\n",
       "0          89  159     5           concept\n",
       "1         100   70     1           concept\n",
       "2         185   45     6           concept\n",
       "3         192   79     5  solving question\n",
       "4         317  156     5  solving question"
      ]
     },
     "execution_count": 39,
     "metadata": {},
     "output_type": "execute_result"
    }
   ],
   "source": [
    "lectures.head()"
   ]
  },
  {
   "cell_type": "code",
   "execution_count": 40,
   "metadata": {
    "_kg_hide-input": true,
    "papermill": {
     "duration": 0.109159,
     "end_time": "2020-12-17T09:52:59.622439",
     "exception": false,
     "start_time": "2020-12-17T09:52:59.51328",
     "status": "completed"
    },
    "tags": []
   },
   "outputs": [
    {
     "name": "stdout",
     "output_type": "stream",
     "text": [
      "There are 418 lecture_ids.\n"
     ]
    }
   ],
   "source": [
    "print(f'There are {lectures.shape[0]} lecture_ids.')"
   ]
  },
  {
   "cell_type": "markdown",
   "metadata": {
    "papermill": {
     "duration": 0.102237,
     "end_time": "2020-12-17T09:52:59.826275",
     "exception": false,
     "start_time": "2020-12-17T09:52:59.724038",
     "status": "completed"
    },
    "tags": []
   },
   "source": [
    "Let's have a look at the type_of."
   ]
  },
  {
   "cell_type": "code",
   "execution_count": 41,
   "metadata": {
    "_kg_hide-input": true,
    "papermill": {
     "duration": 0.264007,
     "end_time": "2020-12-17T09:53:00.19132",
     "exception": false,
     "start_time": "2020-12-17T09:52:59.927313",
     "status": "completed"
    },
    "tags": []
   },
   "outputs": [
    {
     "data": {
      "image/png": "[encoded data removed]",
      "text/plain": [
       "<Figure size 864x432 with 1 Axes>"
      ]
     },
     "metadata": {},
     "output_type": "display_data"
    }
   ],
   "source": [
    "lect_type_of = lectures.type_of.value_counts()\n",
    "\n",
    "fig = plt.figure(figsize=(12,6))\n",
    "plt.bar(lect_type_of.index, lect_type_of.values)\n",
    "for i, v in zip(lect_type_of.index, lect_type_of.values):\n",
    "    plt.text(i, v, v, color='black', fontweight='bold', fontsize=14, va='bottom', ha='center')\n",
    "plt.title(\"Types of lectures\")\n",
    "plt.xlabel(\"type_of\")\n",
    "plt.ylabel(\"Count lecture_id\")\n",
    "plt.xticks(rotation=0)\n",
    "plt.show()"
   ]
  },
  {
   "cell_type": "markdown",
   "metadata": {
    "papermill": {
     "duration": 0.100957,
     "end_time": "2020-12-17T09:53:00.394107",
     "exception": false,
     "start_time": "2020-12-17T09:53:00.29315",
     "status": "completed"
    },
    "tags": []
   },
   "source": [
    "Since there are not that many lectures, I want to check if it helps if a user watches lectures at all. As you can see, it helps indeed!"
   ]
  },
  {
   "cell_type": "code",
   "execution_count": 42,
   "metadata": {
    "_kg_hide-input": true,
    "papermill": {
     "duration": 6.598951,
     "end_time": "2020-12-17T09:53:07.09487",
     "exception": false,
     "start_time": "2020-12-17T09:53:00.495919",
     "status": "completed"
    },
    "tags": []
   },
   "outputs": [
    {
     "name": "stdout",
     "output_type": "stream",
     "text": [
      "False    73402\n",
      "True     44695\n",
      "Name: Watches_lecture, dtype: int64\n"
     ]
    },
    {
     "data": {
      "image/png": "[encoded data removed]",
      "text/plain": [
       "<Figure size 864x288 with 1 Axes>"
      ]
     },
     "metadata": {},
     "output_type": "display_data"
    }
   ],
   "source": [
    "user_lect = train.groupby([\"user_id\", \"answered_correctly\"]).size().unstack()\n",
    "user_lect.columns = ['Lecture', 'Wrong', 'Right']\n",
    "user_lect['Lecture'] = user_lect['Lecture'].fillna(0)\n",
    "user_lect = user_lect.astype('Int64')\n",
    "user_lect['Watches_lecture'] = np.where(user_lect.Lecture > 0, True, False)\n",
    "\n",
    "watches_l = user_lect.groupby(\"Watches_lecture\").agg({'Wrong': ['sum'], 'Right': ['sum']})\n",
    "print(user_lect.Watches_lecture.value_counts())\n",
    "\n",
    "watches_l['Percent_correct'] = watches_l.Right/(watches_l.Right + watches_l.Wrong)\n",
    "\n",
    "watches_l = watches_l.iloc[:,2]\n",
    "\n",
    "fig = plt.figure(figsize=(12,4))\n",
    "watches_l.plot.barh()\n",
    "for i, v in zip(watches_l.index, watches_l.values):\n",
    "    plt.text(v, i, round(v,2), color='white', fontweight='bold', fontsize=14, ha='right', va='center')\n",
    "\n",
    "plt.title(\"User watches lectures: Percent_correct\")\n",
    "plt.xlabel(\"Percent correct\")\n",
    "plt.ylabel(\"User watched at least one lecture\")\n",
    "plt.xticks(rotation=0)\n",
    "plt.show()"
   ]
  },
  {
   "cell_type": "markdown",
   "metadata": {
    "papermill": {
     "duration": 0.103308,
     "end_time": "2020-12-17T09:53:07.306195",
     "exception": false,
     "start_time": "2020-12-17T09:53:07.202887",
     "status": "completed"
    },
    "tags": []
   },
   "source": [
    "Batches (task_container_id) may also contain lectures, and I want to find out if there are any batches with high numbers of lectures."
   ]
  },
  {
   "cell_type": "code",
   "execution_count": 43,
   "metadata": {
    "_kg_hide-input": true,
    "papermill": {
     "duration": 7.565143,
     "end_time": "2020-12-17T09:53:14.974522",
     "exception": false,
     "start_time": "2020-12-17T09:53:07.409379",
     "status": "completed"
    },
    "tags": []
   },
   "outputs": [
    {
     "name": "stdout",
     "output_type": "stream",
     "text": [
      "The highest number of lectures watched within a single task_container_id is 1542.\n"
     ]
    }
   ],
   "source": [
    "batch_lect = train.groupby([\"task_container_id\", \"answered_correctly\"]).size().unstack()\n",
    "batch_lect.columns = ['Lecture', 'Wrong', 'Right']\n",
    "batch_lect['Lecture'] = batch_lect['Lecture'].fillna(0)\n",
    "batch_lect = batch_lect.astype('Int64')\n",
    "batch_lect['Percent_correct'] = batch_lect.Right/(batch_lect.Wrong + batch_lect.Right)\n",
    "batch_lect['Percent_lecture'] = batch_lect.Lecture/(batch_lect.Lecture + batch_lect.Wrong + batch_lect.Right)\n",
    "batch_lect = batch_lect.sort_values(by = \"Percent_lecture\", ascending = False)\n",
    "\n",
    "print(f'The highest number of lectures watched within a single task_container_id is {batch_lect.Lecture.max()}.')"
   ]
  },
  {
   "cell_type": "markdown",
   "metadata": {
    "papermill": {
     "duration": 0.106914,
     "end_time": "2020-12-17T09:53:15.187003",
     "exception": false,
     "start_time": "2020-12-17T09:53:15.080089",
     "status": "completed"
    },
    "tags": []
   },
   "source": [
    "As you can see below (table sorted on descending Percent_lecture), the percent of lectures of the task_container_id's is never high. We can also see the highest percentages of lectures are around 2.8%, which means one lecture on about 36 questions."
   ]
  },
  {
   "cell_type": "code",
   "execution_count": 44,
   "metadata": {
    "_kg_hide-input": true,
    "papermill": {
     "duration": 0.120948,
     "end_time": "2020-12-17T09:53:15.412176",
     "exception": false,
     "start_time": "2020-12-17T09:53:15.291228",
     "status": "completed"
    },
    "tags": []
   },
   "outputs": [
    {
     "data": {
      "text/html": [
       "<div>\n",
       "<style scoped>\n",
       "    .dataframe tbody tr th:only-of-type {\n",
       "        vertical-align: middle;\n",
       "    }\n",
       "\n",
       "    .dataframe tbody tr th {\n",
       "        vertical-align: top;\n",
       "    }\n",
       "\n",
       "    .dataframe thead th {\n",
       "        text-align: right;\n",
       "    }\n",
       "</style>\n",
       "<table border=\"1\" class=\"dataframe\">\n",
       "  <thead>\n",
       "    <tr style=\"text-align: right;\">\n",
       "      <th></th>\n",
       "      <th>Lecture</th>\n",
       "      <th>Wrong</th>\n",
       "      <th>Right</th>\n",
       "      <th>Percent_correct</th>\n",
       "      <th>Percent_lecture</th>\n",
       "    </tr>\n",
       "    <tr>\n",
       "      <th>task_container_id</th>\n",
       "      <th></th>\n",
       "      <th></th>\n",
       "      <th></th>\n",
       "      <th></th>\n",
       "      <th></th>\n",
       "    </tr>\n",
       "  </thead>\n",
       "  <tbody>\n",
       "    <tr>\n",
       "      <th>8882</th>\n",
       "      <td>4</td>\n",
       "      <td>14</td>\n",
       "      <td>62</td>\n",
       "      <td>0.815789</td>\n",
       "      <td>0.05</td>\n",
       "    </tr>\n",
       "    <tr>\n",
       "      <th>8529</th>\n",
       "      <td>5</td>\n",
       "      <td>25</td>\n",
       "      <td>76</td>\n",
       "      <td>0.752475</td>\n",
       "      <td>0.04717</td>\n",
       "    </tr>\n",
       "    <tr>\n",
       "      <th>9170</th>\n",
       "      <td>3</td>\n",
       "      <td>20</td>\n",
       "      <td>45</td>\n",
       "      <td>0.692308</td>\n",
       "      <td>0.044118</td>\n",
       "    </tr>\n",
       "    <tr>\n",
       "      <th>9703</th>\n",
       "      <td>3</td>\n",
       "      <td>24</td>\n",
       "      <td>42</td>\n",
       "      <td>0.636364</td>\n",
       "      <td>0.043478</td>\n",
       "    </tr>\n",
       "    <tr>\n",
       "      <th>9975</th>\n",
       "      <td>2</td>\n",
       "      <td>14</td>\n",
       "      <td>30</td>\n",
       "      <td>0.681818</td>\n",
       "      <td>0.043478</td>\n",
       "    </tr>\n",
       "  </tbody>\n",
       "</table>\n",
       "</div>"
      ],
      "text/plain": [
       "                   Lecture  Wrong  Right  Percent_correct  Percent_lecture\n",
       "task_container_id                                                         \n",
       "8882                     4     14     62         0.815789             0.05\n",
       "8529                     5     25     76         0.752475          0.04717\n",
       "9170                     3     20     45         0.692308         0.044118\n",
       "9703                     3     24     42         0.636364         0.043478\n",
       "9975                     2     14     30         0.681818         0.043478"
      ]
     },
     "execution_count": 44,
     "metadata": {},
     "output_type": "execute_result"
    }
   ],
   "source": [
    "batch_lect.head()"
   ]
  },
  {
   "cell_type": "markdown",
   "metadata": {
    "papermill": {
     "duration": 0.10428,
     "end_time": "2020-12-17T09:53:15.620272",
     "exception": false,
     "start_time": "2020-12-17T09:53:15.515992",
     "status": "completed"
    },
    "tags": []
   },
   "source": [
    "Is there a correlation between the percent_lecture and the percent_correct? No, I don't really see it. If anything, the percent_correct actually seems to go down slightly."
   ]
  },
  {
   "cell_type": "code",
   "execution_count": 45,
   "metadata": {
    "_kg_hide-input": true,
    "papermill": {
     "duration": 0.324996,
     "end_time": "2020-12-17T09:53:16.04921",
     "exception": false,
     "start_time": "2020-12-17T09:53:15.724214",
     "status": "completed"
    },
    "tags": []
   },
   "outputs": [
    {
     "data": {
      "image/png": "[encoded data removed]",
      "text/plain": [
       "<Figure size 864x432 with 1 Axes>"
      ]
     },
     "metadata": {},
     "output_type": "display_data"
    }
   ],
   "source": [
    "batch = batch_lect.iloc[:, 3:]\n",
    "\n",
    "fig = plt.figure(figsize=(12,6))\n",
    "x = batch.Percent_lecture\n",
    "y = batch.Percent_correct\n",
    "plt.scatter(x, y, marker='o')\n",
    "plt.title(\"Percent lectures in a task_container versus percent answered correctly\")\n",
    "plt.xticks(rotation=0)\n",
    "plt.xlabel(\"Percent lectures\")\n",
    "plt.ylabel(\"Percent answered correctly\")\n",
    "\n",
    "plt.show()\n"
   ]
  },
  {
   "cell_type": "markdown",
   "metadata": {
    "papermill": {
     "duration": 0.106777,
     "end_time": "2020-12-17T09:53:16.269922",
     "exception": false,
     "start_time": "2020-12-17T09:53:16.163145",
     "status": "completed"
    },
    "tags": []
   },
   "source": [
    "The last thing that I want to check is if having a lecture in a batch helps. As you can see, it does not. Batches without lectures have about 8% more correct answers than batches with lectures."
   ]
  },
  {
   "cell_type": "code",
   "execution_count": 46,
   "metadata": {
    "_kg_hide-input": true,
    "papermill": {
     "duration": 0.123677,
     "end_time": "2020-12-17T09:53:16.500762",
     "exception": false,
     "start_time": "2020-12-17T09:53:16.377085",
     "status": "completed"
    },
    "tags": []
   },
   "outputs": [
    {
     "name": "stdout",
     "output_type": "stream",
     "text": [
      "We have 7728 task_container_ids with lectures and 2272 task_container_ids without lectures.\n"
     ]
    }
   ],
   "source": [
    "batch_lect['Has_lecture'] = np.where(batch_lect.Lecture == 0, False, True)\n",
    "print(f'We have {batch_lect[batch_lect.Has_lecture == True].shape[0]} task_container_ids with lectures and {batch_lect[batch_lect.Has_lecture == False].shape[0]} task_container_ids without lectures.')"
   ]
  },
  {
   "cell_type": "code",
   "execution_count": 47,
   "metadata": {
    "_kg_hide-input": true,
    "papermill": {
     "duration": 0.128129,
     "end_time": "2020-12-17T09:53:16.735376",
     "exception": false,
     "start_time": "2020-12-17T09:53:16.607247",
     "status": "completed"
    },
    "tags": []
   },
   "outputs": [
    {
     "data": {
      "text/html": [
       "<div>\n",
       "<style scoped>\n",
       "    .dataframe tbody tr th:only-of-type {\n",
       "        vertical-align: middle;\n",
       "    }\n",
       "\n",
       "    .dataframe tbody tr th {\n",
       "        vertical-align: top;\n",
       "    }\n",
       "\n",
       "    .dataframe thead th {\n",
       "        text-align: right;\n",
       "    }\n",
       "</style>\n",
       "<table border=\"1\" class=\"dataframe\">\n",
       "  <thead>\n",
       "    <tr style=\"text-align: right;\">\n",
       "      <th></th>\n",
       "      <th>Percent_correct</th>\n",
       "    </tr>\n",
       "    <tr>\n",
       "      <th>Has_lecture</th>\n",
       "      <th></th>\n",
       "    </tr>\n",
       "  </thead>\n",
       "  <tbody>\n",
       "    <tr>\n",
       "      <th>False</th>\n",
       "      <td>0.732084</td>\n",
       "    </tr>\n",
       "    <tr>\n",
       "      <th>True</th>\n",
       "      <td>0.656835</td>\n",
       "    </tr>\n",
       "  </tbody>\n",
       "</table>\n",
       "</div>"
      ],
      "text/plain": [
       "             Percent_correct\n",
       "Has_lecture                 \n",
       "False               0.732084\n",
       "True                0.656835"
      ]
     },
     "execution_count": 47,
     "metadata": {},
     "output_type": "execute_result"
    }
   ],
   "source": [
    "batch_lect = batch_lect[['Wrong', 'Right', 'Has_lecture']]\n",
    "batch_lect = batch_lect.groupby(\"Has_lecture\").sum()\n",
    "batch_lect['Percent_correct'] = batch_lect.Right/(batch_lect.Wrong + batch_lect.Right)\n",
    "batch_lect = batch_lect[['Percent_correct']]\n",
    "batch_lect"
   ]
  },
  {
   "cell_type": "markdown",
   "metadata": {
    "papermill": {
     "duration": 0.108332,
     "end_time": "2020-12-17T09:53:16.950086",
     "exception": false,
     "start_time": "2020-12-17T09:53:16.841754",
     "status": "completed"
    },
    "tags": []
   },
   "source": [
    "# Example test\n",
    "This file is a very small file, and only good to check what's in there.\n",
    "\n",
    "Important: In the `Updates, corrections, and clarifications` topic is said that:\n",
    "* the hidden test set contains new users but not new questions\n",
    "* The train/test data is complete, in the sense that there are no missing interactions in the union of train and test data. It remains possible that some questions weren't logged due to other issues that all datasets of mobile users are susceptible to,such as if a user lost their connection mid-question.\n",
    "* The test data follows chronologically after the train data. The test iterations give interactions of users chronologically.\n",
    "\n",
    "このファイルは非常に小さなファイルですので、中身を確認する程度にご利用ください。\n",
    "\n",
    "重要: 更新、修正、および明確化のトピックでは、次のように述べられています。\n",
    "\n",
    "隠されたテストセットには新しいユーザは含まれますが、新しい問題は含まれません。\n",
    "訓練データとテストデータの結合に欠落した相互作用がないという意味で、訓練/テストデータは完全です。ただし、質問の途中で接続が切れた場合など、モバイルユーザーのすべてのデータセットが影響を受けやすい問題により、いくつかの質問が記録されなかった可能性があります。\n",
    "テストデータは訓練データの後に時系列で続きます。テスト反復では、ユーザーのインタラクションが時系列で表示される。"
   ]
  },
  {
   "cell_type": "code",
   "execution_count": 48,
   "metadata": {
    "papermill": {
     "duration": 0.15001,
     "end_time": "2020-12-17T09:53:17.207837",
     "exception": false,
     "start_time": "2020-12-17T09:53:17.057827",
     "status": "completed"
    },
    "tags": []
   },
   "outputs": [
    {
     "data": {
      "text/plain": [
       "(104, 11)"
      ]
     },
     "execution_count": 48,
     "metadata": {},
     "output_type": "execute_result"
    }
   ],
   "source": [
    "example_test.shape"
   ]
  },
  {
   "cell_type": "code",
   "execution_count": 49,
   "metadata": {
    "papermill": {
     "duration": 0.126279,
     "end_time": "2020-12-17T09:53:17.44878",
     "exception": false,
     "start_time": "2020-12-17T09:53:17.322501",
     "status": "completed"
    },
    "tags": []
   },
   "outputs": [
    {
     "data": {
      "text/html": [
       "<div>\n",
       "<style scoped>\n",
       "    .dataframe tbody tr th:only-of-type {\n",
       "        vertical-align: middle;\n",
       "    }\n",
       "\n",
       "    .dataframe tbody tr th {\n",
       "        vertical-align: top;\n",
       "    }\n",
       "\n",
       "    .dataframe thead th {\n",
       "        text-align: right;\n",
       "    }\n",
       "</style>\n",
       "<table border=\"1\" class=\"dataframe\">\n",
       "  <thead>\n",
       "    <tr style=\"text-align: right;\">\n",
       "      <th></th>\n",
       "      <th>row_id</th>\n",
       "      <th>group_num</th>\n",
       "      <th>timestamp</th>\n",
       "      <th>user_id</th>\n",
       "      <th>content_id</th>\n",
       "      <th>content_type_id</th>\n",
       "      <th>task_container_id</th>\n",
       "      <th>prior_question_elapsed_time</th>\n",
       "      <th>prior_question_had_explanation</th>\n",
       "      <th>prior_group_answers_correct</th>\n",
       "      <th>prior_group_responses</th>\n",
       "    </tr>\n",
       "  </thead>\n",
       "  <tbody>\n",
       "    <tr>\n",
       "      <th>0</th>\n",
       "      <td>0</td>\n",
       "      <td>0</td>\n",
       "      <td>0</td>\n",
       "      <td>275030867</td>\n",
       "      <td>5729</td>\n",
       "      <td>0</td>\n",
       "      <td>0</td>\n",
       "      <td>NaN</td>\n",
       "      <td>NaN</td>\n",
       "      <td>[]</td>\n",
       "      <td>[]</td>\n",
       "    </tr>\n",
       "    <tr>\n",
       "      <th>1</th>\n",
       "      <td>1</td>\n",
       "      <td>0</td>\n",
       "      <td>13309898705</td>\n",
       "      <td>554169193</td>\n",
       "      <td>12010</td>\n",
       "      <td>0</td>\n",
       "      <td>4427</td>\n",
       "      <td>19000.0</td>\n",
       "      <td>True</td>\n",
       "      <td>NaN</td>\n",
       "      <td>NaN</td>\n",
       "    </tr>\n",
       "    <tr>\n",
       "      <th>2</th>\n",
       "      <td>2</td>\n",
       "      <td>0</td>\n",
       "      <td>4213672059</td>\n",
       "      <td>1720860329</td>\n",
       "      <td>457</td>\n",
       "      <td>0</td>\n",
       "      <td>240</td>\n",
       "      <td>17000.0</td>\n",
       "      <td>True</td>\n",
       "      <td>NaN</td>\n",
       "      <td>NaN</td>\n",
       "    </tr>\n",
       "    <tr>\n",
       "      <th>3</th>\n",
       "      <td>3</td>\n",
       "      <td>0</td>\n",
       "      <td>62798072960</td>\n",
       "      <td>288641214</td>\n",
       "      <td>13262</td>\n",
       "      <td>0</td>\n",
       "      <td>266</td>\n",
       "      <td>23000.0</td>\n",
       "      <td>True</td>\n",
       "      <td>NaN</td>\n",
       "      <td>NaN</td>\n",
       "    </tr>\n",
       "    <tr>\n",
       "      <th>4</th>\n",
       "      <td>4</td>\n",
       "      <td>0</td>\n",
       "      <td>10585422061</td>\n",
       "      <td>1728340777</td>\n",
       "      <td>6119</td>\n",
       "      <td>0</td>\n",
       "      <td>162</td>\n",
       "      <td>72400.0</td>\n",
       "      <td>True</td>\n",
       "      <td>NaN</td>\n",
       "      <td>NaN</td>\n",
       "    </tr>\n",
       "  </tbody>\n",
       "</table>\n",
       "</div>"
      ],
      "text/plain": [
       "   row_id  group_num    timestamp     user_id  content_id  content_type_id  \\\n",
       "0       0          0            0   275030867        5729                0   \n",
       "1       1          0  13309898705   554169193       12010                0   \n",
       "2       2          0   4213672059  1720860329         457                0   \n",
       "3       3          0  62798072960   288641214       13262                0   \n",
       "4       4          0  10585422061  1728340777        6119                0   \n",
       "\n",
       "   task_container_id  prior_question_elapsed_time  \\\n",
       "0                  0                          NaN   \n",
       "1               4427                      19000.0   \n",
       "2                240                      17000.0   \n",
       "3                266                      23000.0   \n",
       "4                162                      72400.0   \n",
       "\n",
       "  prior_question_had_explanation prior_group_answers_correct  \\\n",
       "0                            NaN                          []   \n",
       "1                           True                         NaN   \n",
       "2                           True                         NaN   \n",
       "3                           True                         NaN   \n",
       "4                           True                         NaN   \n",
       "\n",
       "  prior_group_responses  \n",
       "0                    []  \n",
       "1                   NaN  \n",
       "2                   NaN  \n",
       "3                   NaN  \n",
       "4                   NaN  "
      ]
     },
     "execution_count": 49,
     "metadata": {},
     "output_type": "execute_result"
    }
   ],
   "source": [
    "example_test.head()"
   ]
  },
  {
   "cell_type": "code",
   "execution_count": 50,
   "metadata": {
    "_kg_hide-input": true,
    "papermill": {
     "duration": 1.053784,
     "end_time": "2020-12-17T09:53:18.610078",
     "exception": false,
     "start_time": "2020-12-17T09:53:17.556294",
     "status": "completed"
    },
    "tags": []
   },
   "outputs": [
    {
     "name": "stdout",
     "output_type": "stream",
     "text": [
      "All batches in example_test are also in train is True.\n"
     ]
    }
   ],
   "source": [
    "batches_test = set(list(example_test.task_container_id.unique()))\n",
    "batches_train = set(list(train.task_container_id.unique()))\n",
    "print(f'All batches in example_test are also in train is {batches_test.issubset(batches_train)}.')"
   ]
  },
  {
   "cell_type": "markdown",
   "metadata": {
    "papermill": {
     "duration": 0.108419,
     "end_time": "2020-12-17T09:53:18.828012",
     "exception": false,
     "start_time": "2020-12-17T09:53:18.719593",
     "status": "completed"
    },
    "tags": []
   },
   "source": [
    "Kaggle says that there are new users in the test set, but let's check this anyway with example_test. As we can see, there is a new user in example_test indeed.\n",
    "\n",
    "Kaggleは、テストセットに新しいユーザーがいると言っていますが、とりあえずexample_testで確認してみましょう。見ての通り、example_testには確かに新しいユーザがいます。"
   ]
  },
  {
   "cell_type": "code",
   "execution_count": 51,
   "metadata": {
    "_kg_hide-input": true,
    "papermill": {
     "duration": 1.064978,
     "end_time": "2020-12-17T09:53:20.000773",
     "exception": false,
     "start_time": "2020-12-17T09:53:18.935795",
     "status": "completed"
    },
    "tags": []
   },
   "outputs": [
    {
     "name": "stdout",
     "output_type": "stream",
     "text": [
      "User_ids in example_test but not in train: {1900527744, 1317245193, 555691277, 1817433235, 706626847, 1637273633, 311890082, 98059812, 1422853669, 1468996389, 1310228392, 1728340777, 1720860329, 7792299, 1202386221, 2018567473, 1148874033, 1305988022, 1233875513, 275030867, 1364159702, 1700555100, 319060572, 1357500007, 554169193, 385471210, 2030979309, 1981166446, 674533997, 1599808246}.\n"
     ]
    }
   ],
   "source": [
    "user_test = set(list(example_test.user_id.unique()))\n",
    "user_train = set(list(train.user_id.unique()))\n",
    "\n",
    "print(f'User_ids in example_test but not in train: {user_test - user_train}.')"
   ]
  },
  {
   "cell_type": "markdown",
   "metadata": {
    "papermill": {
     "duration": 0.11022,
     "end_time": "2020-12-17T09:53:20.220868",
     "exception": false,
     "start_time": "2020-12-17T09:53:20.110648",
     "status": "completed"
    },
    "tags": []
   },
   "source": [
    "# 2. Baseline model"
   ]
  },
  {
   "cell_type": "markdown",
   "metadata": {},
   "source": [
    "TODO: 以下のコードを実行したいが，他のcsvファイルもtarget_idで抽出すべき？\n",
    "```python\n",
    "target_id = pd.Series(train.user_id.unique()).sample(frac=0.3)\n",
    "train = train[train['user_id'].isin(target_id)]\n",
    "```\n"
   ]
  },
  {
   "cell_type": "code",
   "execution_count": 4,
   "metadata": {
    "papermill": {
     "duration": 0.555834,
     "end_time": "2020-12-17T09:53:20.886425",
     "exception": false,
     "start_time": "2020-12-17T09:53:20.330591",
     "status": "completed"
    },
    "tags": []
   },
   "outputs": [],
   "source": [
    "#this clears everything loaded in RAM, including the libraries\n",
    "%reset -f"
   ]
  },
  {
   "cell_type": "code",
   "execution_count": 5,
   "metadata": {
    "_cell_guid": "79c7e3d0-c299-4dcb-8224-4455121ee9b0",
    "_kg_hide-input": true,
    "_uuid": "d629ff2d2480ee46fbb7e2d37f6b5fab8052498a",
    "papermill": {
     "duration": 0.354034,
     "end_time": "2020-12-17T09:53:21.350676",
     "exception": false,
     "start_time": "2020-12-17T09:53:20.996642",
     "status": "completed"
    },
    "tags": []
   },
   "outputs": [],
   "source": [
    "import numpy as np\n",
    "import pandas as pd\n",
    "import sys\n",
    "import importlib\n",
    "\n",
    "sys.path.append('../input/')\n",
    "riiideducation = importlib.import_module(\"riiid-test-answer-prediction.riiideducation\")\n",
    "import matplotlib.pyplot as plt\n",
    "%matplotlib inline\n",
    "import matplotlib.style as style\n",
    "style.use('fivethirtyeight')\n",
    "import seaborn as sns\n",
    "import os\n",
    "import lightgbm as lgb\n",
    "from sklearn.metrics import roc_auc_score\n",
    "from sklearn.preprocessing import LabelEncoder\n",
    "import gc\n",
    "import sys\n",
    "pd.set_option('display.max_rows', None)"
   ]
  },
  {
   "cell_type": "code",
   "execution_count": 6,
   "metadata": {
    "_kg_hide-input": false,
    "papermill": {
     "duration": 76.36909,
     "end_time": "2020-12-17T09:54:37.826807",
     "exception": false,
     "start_time": "2020-12-17T09:53:21.457717",
     "status": "completed"
    },
    "tags": []
   },
   "outputs": [
    {
     "name": "stdout",
     "output_type": "stream",
     "text": [
      "Train size: (30469508, 6)\n",
      "CPU times: user 13.4 s, sys: 4.92 s, total: 18.3 s\n",
      "Wall time: 22.7 s\n"
     ]
    }
   ],
   "source": [
    "%%time\n",
    "cols_to_load = ['row_id', 'user_id', 'answered_correctly', 'content_id', 'prior_question_had_explanation', 'prior_question_elapsed_time']\n",
    "train = pd.read_pickle(\"../input/riiid-train-data-multiple-formats/riiid_train.pkl.gzip\")[cols_to_load]\n",
    "# sampling\n",
    "target_id = pd.Series(train.user_id.unique()).sample(frac=0.3)\n",
    "train = train[train['user_id'].isin(target_id)]\n",
    "\n",
    "train['prior_question_had_explanation'] = train['prior_question_had_explanation'].astype('boolean')\n",
    "print(\"Train size:\", train.shape)"
   ]
  },
  {
   "cell_type": "code",
   "execution_count": 9,
   "metadata": {
    "_kg_hide-input": false,
    "papermill": {
     "duration": 0.155606,
     "end_time": "2020-12-17T09:54:38.09315",
     "exception": false,
     "start_time": "2020-12-17T09:54:37.937544",
     "status": "completed"
    },
    "tags": []
   },
   "outputs": [
    {
     "name": "stdout",
     "output_type": "stream",
     "text": [
      "CPU times: user 14.9 ms, sys: 0 ns, total: 14.9 ms\n",
      "Wall time: 13.9 ms\n"
     ]
    }
   ],
   "source": [
    "%%time\n",
    "questions = pd.read_csv('../input/riiid-test-answer-prediction/questions.csv')\n",
    "#questions = questions[questions['user_id'].isin(target_id)]\n",
    "lectures = pd.read_csv('../input/riiid-test-answer-prediction/lectures.csv')\n",
    "#lectures = lectures[lectures['user_id'].isin(target_id)]\n",
    "\n",
    "example_test = pd.read_csv('../input/riiid-test-answer-prediction/example_test.csv')\n",
    "example_sample_submission = pd.read_csv('../input/riiid-test-answer-prediction/example_sample_submission.csv')"
   ]
  },
  {
   "cell_type": "code",
   "execution_count": 57,
   "metadata": {
    "papermill": {
     "duration": 0.12717,
     "end_time": "2020-12-17T09:54:38.332477",
     "exception": false,
     "start_time": "2020-12-17T09:54:38.205307",
     "status": "completed"
    },
    "tags": []
   },
   "outputs": [
    {
     "data": {
      "text/html": [
       "<div>\n",
       "<style scoped>\n",
       "    .dataframe tbody tr th:only-of-type {\n",
       "        vertical-align: middle;\n",
       "    }\n",
       "\n",
       "    .dataframe tbody tr th {\n",
       "        vertical-align: top;\n",
       "    }\n",
       "\n",
       "    .dataframe thead th {\n",
       "        text-align: right;\n",
       "    }\n",
       "</style>\n",
       "<table border=\"1\" class=\"dataframe\">\n",
       "  <thead>\n",
       "    <tr style=\"text-align: right;\">\n",
       "      <th></th>\n",
       "      <th>row_id</th>\n",
       "      <th>user_id</th>\n",
       "      <th>answered_correctly</th>\n",
       "      <th>content_id</th>\n",
       "      <th>prior_question_had_explanation</th>\n",
       "      <th>prior_question_elapsed_time</th>\n",
       "    </tr>\n",
       "  </thead>\n",
       "  <tbody>\n",
       "    <tr>\n",
       "      <th>0</th>\n",
       "      <td>0</td>\n",
       "      <td>115</td>\n",
       "      <td>1</td>\n",
       "      <td>5692</td>\n",
       "      <td>&lt;NA&gt;</td>\n",
       "      <td>NaN</td>\n",
       "    </tr>\n",
       "    <tr>\n",
       "      <th>1</th>\n",
       "      <td>1</td>\n",
       "      <td>115</td>\n",
       "      <td>1</td>\n",
       "      <td>5716</td>\n",
       "      <td>False</td>\n",
       "      <td>37000.0</td>\n",
       "    </tr>\n",
       "    <tr>\n",
       "      <th>2</th>\n",
       "      <td>2</td>\n",
       "      <td>115</td>\n",
       "      <td>1</td>\n",
       "      <td>128</td>\n",
       "      <td>False</td>\n",
       "      <td>55000.0</td>\n",
       "    </tr>\n",
       "    <tr>\n",
       "      <th>3</th>\n",
       "      <td>3</td>\n",
       "      <td>115</td>\n",
       "      <td>1</td>\n",
       "      <td>7860</td>\n",
       "      <td>False</td>\n",
       "      <td>19000.0</td>\n",
       "    </tr>\n",
       "    <tr>\n",
       "      <th>4</th>\n",
       "      <td>4</td>\n",
       "      <td>115</td>\n",
       "      <td>1</td>\n",
       "      <td>7922</td>\n",
       "      <td>False</td>\n",
       "      <td>11000.0</td>\n",
       "    </tr>\n",
       "  </tbody>\n",
       "</table>\n",
       "</div>"
      ],
      "text/plain": [
       "   row_id  user_id  answered_correctly  content_id  \\\n",
       "0       0      115                   1        5692   \n",
       "1       1      115                   1        5716   \n",
       "2       2      115                   1         128   \n",
       "3       3      115                   1        7860   \n",
       "4       4      115                   1        7922   \n",
       "\n",
       "   prior_question_had_explanation  prior_question_elapsed_time  \n",
       "0                            <NA>                          NaN  \n",
       "1                           False                      37000.0  \n",
       "2                           False                      55000.0  \n",
       "3                           False                      19000.0  \n",
       "4                           False                      11000.0  "
      ]
     },
     "execution_count": 57,
     "metadata": {},
     "output_type": "execute_result"
    }
   ],
   "source": [
    "train.head()"
   ]
  },
  {
   "cell_type": "code",
   "execution_count": 58,
   "metadata": {
    "papermill": {
     "duration": 0.120499,
     "end_time": "2020-12-17T09:54:38.562576",
     "exception": false,
     "start_time": "2020-12-17T09:54:38.442077",
     "status": "completed"
    },
    "tags": []
   },
   "outputs": [
    {
     "data": {
      "text/plain": [
       "(101230332, 6)"
      ]
     },
     "execution_count": 58,
     "metadata": {},
     "output_type": "execute_result"
    }
   ],
   "source": [
    "train.shape"
   ]
  },
  {
   "cell_type": "markdown",
   "metadata": {
    "papermill": {
     "duration": 0.108736,
     "end_time": "2020-12-17T09:54:38.781506",
     "exception": false,
     "start_time": "2020-12-17T09:54:38.67277",
     "status": "completed"
    },
    "tags": []
   },
   "source": [
    "Below, I am adding user features. **Dislaimer**: This a quick and dirty way. Future information should not be used. For instance, the percent answered_correctly for a user's 10th question should be the average of his first 9 answers only. However, that would make this baseline model a lot more complicated. You can find the correct way to compose user features in all high scoring public notebooks (which use loops to calculate values for each individual question).\n",
    "\n",
    "以下、ユーザー機能を追加しています。**Dislaimer**: これは手っ取り早く、汚い方法です。未来の情報は使うべきではない。例えば、ユーザーの10番目の質問に対するanswered_correctlyのパーセントは、彼の最初の9つの回答の平均のみにすべきです。しかし、それはこのベースラインモデルをより複雑にしてしまいます。ユーザーの特徴を構成する正しい方法は、すべての高得点公開ノートブック（個々の問題に対して値を計算するループを使用している）で見つけることができます。"
   ]
  },
  {
   "cell_type": "code",
   "execution_count": 59,
   "metadata": {
    "papermill": {
     "duration": 25.764965,
     "end_time": "2020-12-17T09:55:04.656525",
     "exception": false,
     "start_time": "2020-12-17T09:54:38.89156",
     "status": "completed"
    },
    "tags": []
   },
   "outputs": [
    {
     "name": "stdout",
     "output_type": "stream",
     "text": [
      "CPU times: user 8.11 s, sys: 1.65 s, total: 9.76 s\n",
      "Wall time: 9.77 s\n"
     ]
    },
    {
     "data": {
      "text/html": [
       "<div>\n",
       "<style scoped>\n",
       "    .dataframe tbody tr th:only-of-type {\n",
       "        vertical-align: middle;\n",
       "    }\n",
       "\n",
       "    .dataframe tbody tr th {\n",
       "        vertical-align: top;\n",
       "    }\n",
       "\n",
       "    .dataframe thead th {\n",
       "        text-align: right;\n",
       "    }\n",
       "</style>\n",
       "<table border=\"1\" class=\"dataframe\">\n",
       "  <thead>\n",
       "    <tr style=\"text-align: right;\">\n",
       "      <th></th>\n",
       "      <th>user_id</th>\n",
       "      <th>user_questions</th>\n",
       "      <th>user_mean</th>\n",
       "      <th>watches_lecture</th>\n",
       "    </tr>\n",
       "  </thead>\n",
       "  <tbody>\n",
       "    <tr>\n",
       "      <th>0</th>\n",
       "      <td>115</td>\n",
       "      <td>46</td>\n",
       "      <td>0.695652</td>\n",
       "      <td>0</td>\n",
       "    </tr>\n",
       "    <tr>\n",
       "      <th>1</th>\n",
       "      <td>124</td>\n",
       "      <td>30</td>\n",
       "      <td>0.233333</td>\n",
       "      <td>0</td>\n",
       "    </tr>\n",
       "    <tr>\n",
       "      <th>2</th>\n",
       "      <td>2746</td>\n",
       "      <td>19</td>\n",
       "      <td>0.578947</td>\n",
       "      <td>1</td>\n",
       "    </tr>\n",
       "    <tr>\n",
       "      <th>3</th>\n",
       "      <td>5382</td>\n",
       "      <td>125</td>\n",
       "      <td>0.672000</td>\n",
       "      <td>1</td>\n",
       "    </tr>\n",
       "    <tr>\n",
       "      <th>4</th>\n",
       "      <td>8623</td>\n",
       "      <td>109</td>\n",
       "      <td>0.642202</td>\n",
       "      <td>1</td>\n",
       "    </tr>\n",
       "  </tbody>\n",
       "</table>\n",
       "</div>"
      ],
      "text/plain": [
       "   user_id  user_questions  user_mean  watches_lecture\n",
       "0      115              46   0.695652                0\n",
       "1      124              30   0.233333                0\n",
       "2     2746              19   0.578947                1\n",
       "3     5382             125   0.672000                1\n",
       "4     8623             109   0.642202                1"
      ]
     },
     "execution_count": 59,
     "metadata": {},
     "output_type": "execute_result"
    }
   ],
   "source": [
    "%%time\n",
    "#adding user features\n",
    "user_df = train[train.answered_correctly != -1].groupby('user_id').agg({'answered_correctly': ['count', 'mean']}).reset_index()\n",
    "user_df.columns = ['user_id', 'user_questions', 'user_mean']\n",
    "\n",
    "user_lect = train.groupby([\"user_id\", \"answered_correctly\"]).size().unstack()\n",
    "user_lect.columns = ['Lecture', 'Wrong', 'Right']\n",
    "user_lect = user_lect[['Lecture']].fillna(0).astype('int8')\n",
    "#user_lect = user_lect.astype('int8')\n",
    "user_lect['watches_lecture'] = np.where(user_lect.Lecture > 0, 1, 0)\n",
    "user_lect = user_lect.reset_index()\n",
    "user_lect = user_lect[['user_id', 'watches_lecture']]\n",
    "\n",
    "user_df = user_df.merge(user_lect, on = \"user_id\", how = \"left\")\n",
    "del user_lect\n",
    "user_df.head()"
   ]
  },
  {
   "cell_type": "markdown",
   "metadata": {
    "papermill": {
     "duration": 0.109726,
     "end_time": "2020-12-17T09:55:04.876937",
     "exception": false,
     "start_time": "2020-12-17T09:55:04.767211",
     "status": "completed"
    },
    "tags": []
   },
   "source": [
    "For content features, the story is different. If we had \"real\" points in time, we would have had the option to track changes in difficulty over time. However, timestamp 0 for user x is not the same as timestamp 0 for user y. Therefore, we do not have the option to compare timestamps across users and the \"average-based \"content features are as good as it gets for this dataset."
   ]
  },
  {
   "cell_type": "code",
   "execution_count": 60,
   "metadata": {
    "papermill": {
     "duration": 20.371681,
     "end_time": "2020-12-17T09:55:25.367802",
     "exception": false,
     "start_time": "2020-12-17T09:55:04.996121",
     "status": "completed"
    },
    "tags": []
   },
   "outputs": [
    {
     "name": "stdout",
     "output_type": "stream",
     "text": [
      "CPU times: user 4.97 s, sys: 651 ms, total: 5.62 s\n",
      "Wall time: 5.62 s\n"
     ]
    },
    {
     "data": {
      "text/html": [
       "<div>\n",
       "<style scoped>\n",
       "    .dataframe tbody tr th:only-of-type {\n",
       "        vertical-align: middle;\n",
       "    }\n",
       "\n",
       "    .dataframe tbody tr th {\n",
       "        vertical-align: top;\n",
       "    }\n",
       "\n",
       "    .dataframe thead th {\n",
       "        text-align: right;\n",
       "    }\n",
       "</style>\n",
       "<table border=\"1\" class=\"dataframe\">\n",
       "  <thead>\n",
       "    <tr style=\"text-align: right;\">\n",
       "      <th></th>\n",
       "      <th>content_id</th>\n",
       "      <th>content_questions</th>\n",
       "      <th>content_mean</th>\n",
       "    </tr>\n",
       "  </thead>\n",
       "  <tbody>\n",
       "    <tr>\n",
       "      <th>0</th>\n",
       "      <td>0</td>\n",
       "      <td>6903</td>\n",
       "      <td>0.907721</td>\n",
       "    </tr>\n",
       "    <tr>\n",
       "      <th>1</th>\n",
       "      <td>1</td>\n",
       "      <td>7398</td>\n",
       "      <td>0.890646</td>\n",
       "    </tr>\n",
       "    <tr>\n",
       "      <th>2</th>\n",
       "      <td>2</td>\n",
       "      <td>44905</td>\n",
       "      <td>0.554281</td>\n",
       "    </tr>\n",
       "    <tr>\n",
       "      <th>3</th>\n",
       "      <td>3</td>\n",
       "      <td>22973</td>\n",
       "      <td>0.779437</td>\n",
       "    </tr>\n",
       "    <tr>\n",
       "      <th>4</th>\n",
       "      <td>4</td>\n",
       "      <td>31736</td>\n",
       "      <td>0.613215</td>\n",
       "    </tr>\n",
       "  </tbody>\n",
       "</table>\n",
       "</div>"
      ],
      "text/plain": [
       "   content_id  content_questions  content_mean\n",
       "0           0               6903      0.907721\n",
       "1           1               7398      0.890646\n",
       "2           2              44905      0.554281\n",
       "3           3              22973      0.779437\n",
       "4           4              31736      0.613215"
      ]
     },
     "execution_count": 60,
     "metadata": {},
     "output_type": "execute_result"
    }
   ],
   "source": [
    "%%time\n",
    "#adding content features\n",
    "content_df = train[train.answered_correctly != -1].groupby('content_id').agg({'answered_correctly': ['count', 'mean']}).reset_index()\n",
    "content_df.columns = ['content_id', 'content_questions', 'content_mean']\n",
    "content_df.head()\n"
   ]
  },
  {
   "cell_type": "markdown",
   "metadata": {
    "papermill": {
     "duration": 0.111891,
     "end_time": "2020-12-17T09:55:25.590437",
     "exception": false,
     "start_time": "2020-12-17T09:55:25.478546",
     "status": "completed"
    },
    "tags": []
   },
   "source": [
    "Tito rightfully argues that just taking the last couple of questions from each user as the validation set leads to much on \"light users\" in this kernel (Thanks Tito!): https://www.kaggle.com/its7171/cv-strategy"
   ]
  },
  {
   "cell_type": "code",
   "execution_count": 61,
   "metadata": {
    "papermill": {
     "duration": 81.302831,
     "end_time": "2020-12-17T09:56:47.003527",
     "exception": false,
     "start_time": "2020-12-17T09:55:25.700696",
     "status": "completed"
    },
    "tags": []
   },
   "outputs": [
    {
     "name": "stdout",
     "output_type": "stream",
     "text": [
      "CPU times: user 1.68 s, sys: 7.46 s, total: 9.14 s\n",
      "Wall time: 16.1 s\n"
     ]
    }
   ],
   "source": [
    "%%time\n",
    "#using one of the validation sets composed by tito\n",
    "cv2_train = pd.read_pickle(\"../input/riiid-cross-validation-files/cv2_train.pickle\")['row_id']\n",
    "cv2_valid = pd.read_pickle(\"../input/riiid-cross-validation-files/cv2_valid.pickle\")['row_id']"
   ]
  },
  {
   "cell_type": "code",
   "execution_count": 62,
   "metadata": {
    "papermill": {
     "duration": 49.229036,
     "end_time": "2020-12-17T09:57:36.346511",
     "exception": false,
     "start_time": "2020-12-17T09:56:47.117475",
     "status": "completed"
    },
    "tags": []
   },
   "outputs": [
    {
     "data": {
      "text/plain": [
       "72"
      ]
     },
     "execution_count": 62,
     "metadata": {},
     "output_type": "execute_result"
    }
   ],
   "source": [
    "train = train[train.answered_correctly != -1]\n",
    "\n",
    "#save mean before splitting\n",
    "#please be aware that there is an issues with train.prior_question_elapsed_time.mean()\n",
    "#see https://www.kaggle.com/c/riiid-test-answer-prediction/discussion/195032\n",
    "mean_prior = train.prior_question_elapsed_time.astype(\"float64\").mean()\n",
    "\n",
    "validation = train[train.row_id.isin(cv2_valid)]\n",
    "train = train[train.row_id.isin(cv2_train)]\n",
    "\n",
    "validation = validation.drop(columns = \"row_id\")\n",
    "train = train.drop(columns = \"row_id\")\n",
    "\n",
    "del cv2_train, cv2_valid\n",
    "gc.collect()"
   ]
  },
  {
   "attachments": {
    "c2b82eea-e1ef-4631-ad14-82e51b7ac2ca.png": {
     "image/png": "[encoded data removed]"
    }
   },
   "cell_type": "markdown",
   "metadata": {},
   "source": [
    "ここで，以下の画面が表示され強制終了してしまう.\n",
    "\n",
    "メモリが不足しているときに表示されるメッセージらしい.\n",
    "\n",
    "\n",
    "--------------------------------------\n",
    "\n",
    "![image.png](attachment:c2b82eea-e1ef-4631-ad14-82e51b7ac2ca.png)\n",
    "\n",
    "--------------------------------------"
   ]
  },
  {
   "cell_type": "markdown",
   "metadata": {
    "papermill": {
     "duration": 0.114813,
     "end_time": "2020-12-17T09:57:36.573966",
     "exception": false,
     "start_time": "2020-12-17T09:57:36.459153",
     "status": "completed"
    },
    "tags": []
   },
   "source": [
    "In the previous version, I made a function for all the merges, fillna's and label encoding below. However, after adding a few features in this version, I ran into memory issues. I seemed as if a copy of train was kept in RAM at least temporarily, and I ran into an out-of memory error. Therefore, I unfortunately went back to an ugly version of code repetition for those steps (same code for validation and test_df)."
   ]
  },
  {
   "cell_type": "code",
   "execution_count": null,
   "metadata": {
    "papermill": {
     "duration": 83.431451,
     "end_time": "2020-12-17T09:59:00.123534",
     "exception": false,
     "start_time": "2020-12-17T09:57:36.692083",
     "status": "completed"
    },
    "tags": []
   },
   "outputs": [],
   "source": [
    "label_enc = LabelEncoder()\n",
    "\n",
    "train = train.merge(user_df, on = \"user_id\", how = \"left\")\n",
    "train = train.merge(content_df, on = \"content_id\", how = \"left\")\n",
    "train['content_questions'].fillna(0, inplace = True)\n",
    "train['content_mean'].fillna(0.5, inplace = True)\n",
    "train['watches_lecture'].fillna(0, inplace = True)\n",
    "train['user_questions'].fillna(0, inplace = True)\n",
    "train['user_mean'].fillna(0.5, inplace = True)\n",
    "train['prior_question_elapsed_time'].fillna(mean_prior, inplace = True)\n",
    "train['prior_question_had_explanation'].fillna(False, inplace = True)\n",
    "label_enc.fit(train['prior_question_had_explanation'])\n",
    "train['prior_question_had_explanation'] = label_enc.transform(train['prior_question_had_explanation'])\n",
    "train[['content_questions', 'user_questions']] = train[['content_questions', 'user_questions']].astype(int)\n",
    "train.sample(5)"
   ]
  },
  {
   "cell_type": "code",
   "execution_count": null,
   "metadata": {
    "papermill": {
     "duration": 1.978745,
     "end_time": "2020-12-17T09:59:02.220038",
     "exception": false,
     "start_time": "2020-12-17T09:59:00.241293",
     "status": "completed"
    },
    "tags": []
   },
   "outputs": [],
   "source": [
    "validation = validation.merge(user_df, on = \"user_id\", how = \"left\")\n",
    "validation = validation.merge(content_df, on = \"content_id\", how = \"left\")\n",
    "validation['content_questions'].fillna(0, inplace = True)\n",
    "validation['content_mean'].fillna(0.5, inplace = True)\n",
    "validation['watches_lecture'].fillna(0, inplace = True)\n",
    "validation['user_questions'].fillna(0, inplace = True)\n",
    "validation['user_mean'].fillna(0.5, inplace = True)\n",
    "validation['prior_question_elapsed_time'].fillna(mean_prior, inplace = True)\n",
    "validation['prior_question_had_explanation'].fillna(False, inplace = True)\n",
    "validation['prior_question_had_explanation'] = label_enc.transform(validation['prior_question_had_explanation'])\n",
    "validation[['content_questions', 'user_questions']] = validation[['content_questions', 'user_questions']].astype(int)\n",
    "validation.sample(5)"
   ]
  },
  {
   "cell_type": "markdown",
   "metadata": {
    "papermill": {
     "duration": 0.113296,
     "end_time": "2020-12-17T09:59:02.449402",
     "exception": false,
     "start_time": "2020-12-17T09:59:02.336106",
     "status": "completed"
    },
    "tags": []
   },
   "source": [
    "As you can see below, I am using only 5 features for this baseline. Initially, I also included \"watches_lecture\" and \"prior_question_had_explanation\", but these two features are very questionable. With those two features, CV barely goes up (less than 0.001), the public score goes down 0.001 and feature importance is very low for both features. Therefore, I believe that the simpler model is preferred. If you want still check what the numbers look like with those features, you can do that by simply hashing in and out the features line."
   ]
  },
  {
   "cell_type": "code",
   "execution_count": null,
   "metadata": {
    "papermill": {
     "duration": 8.282088,
     "end_time": "2020-12-17T09:59:10.84575",
     "exception": false,
     "start_time": "2020-12-17T09:59:02.563662",
     "status": "completed"
    },
    "tags": []
   },
   "outputs": [],
   "source": [
    "# features = ['user_questions', 'user_mean', 'content_questions', 'content_mean', 'watches_lecture',\n",
    "#             'prior_question_elapsed_time', 'prior_question_had_explanation']\n",
    "\n",
    "features = ['user_questions', 'user_mean', 'content_questions', 'content_mean', 'prior_question_elapsed_time']\n",
    "\n",
    "\n",
    "#for now just taking 10.000.000 rows for training\n",
    "train = train.sample(n=10000000, random_state = 1)\n",
    "\n",
    "y_train = train['answered_correctly']\n",
    "train = train[features]\n",
    "\n",
    "y_val = validation['answered_correctly']\n",
    "validation = validation[features]\n"
   ]
  },
  {
   "cell_type": "code",
   "execution_count": null,
   "metadata": {
    "papermill": {
     "duration": 0.122982,
     "end_time": "2020-12-17T09:59:11.081683",
     "exception": false,
     "start_time": "2020-12-17T09:59:10.958701",
     "status": "completed"
    },
    "tags": []
   },
   "outputs": [],
   "source": [
    "params = {'objective': 'binary',\n",
    "          'metric': 'auc',\n",
    "          'seed': 2020,\n",
    "          'learning_rate': 0.1, #default\n",
    "          \"boosting_type\": \"gbdt\" #default\n",
    "         }"
   ]
  },
  {
   "cell_type": "code",
   "execution_count": null,
   "metadata": {
    "papermill": {
     "duration": 0.2244,
     "end_time": "2020-12-17T09:59:11.421227",
     "exception": false,
     "start_time": "2020-12-17T09:59:11.196827",
     "status": "completed"
    },
    "tags": []
   },
   "outputs": [],
   "source": [
    "lgb_train = lgb.Dataset(train, y_train, categorical_feature = None)\n",
    "lgb_eval = lgb.Dataset(validation, y_val, categorical_feature = None)\n",
    "del train, y_train, validation, y_val\n",
    "gc.collect()"
   ]
  },
  {
   "cell_type": "code",
   "execution_count": null,
   "metadata": {
    "papermill": {
     "duration": 811.944273,
     "end_time": "2020-12-17T10:12:43.481126",
     "exception": false,
     "start_time": "2020-12-17T09:59:11.536853",
     "status": "completed"
    },
    "tags": []
   },
   "outputs": [],
   "source": [
    "%%time\n",
    "model = lgb.train(\n",
    "    params, lgb_train,\n",
    "    valid_sets=[lgb_train, lgb_eval],\n",
    "    verbose_eval=50,\n",
    "    num_boost_round=10000,\n",
    "    early_stopping_rounds=8\n",
    ")"
   ]
  },
  {
   "cell_type": "code",
   "execution_count": null,
   "metadata": {
    "papermill": {
     "duration": 0.316882,
     "end_time": "2020-12-17T10:12:43.922007",
     "exception": false,
     "start_time": "2020-12-17T10:12:43.605125",
     "status": "completed"
    },
    "tags": []
   },
   "outputs": [],
   "source": [
    "lgb.plot_importance(model)\n",
    "plt.show()"
   ]
  },
  {
   "cell_type": "code",
   "execution_count": null,
   "metadata": {
    "papermill": {
     "duration": 0.139347,
     "end_time": "2020-12-17T10:12:44.182382",
     "exception": false,
     "start_time": "2020-12-17T10:12:44.043035",
     "status": "completed"
    },
    "tags": []
   },
   "outputs": [],
   "source": [
    "env = riiideducation.make_env()"
   ]
  },
  {
   "cell_type": "code",
   "execution_count": null,
   "metadata": {
    "papermill": {
     "duration": 0.127515,
     "end_time": "2020-12-17T10:12:44.429854",
     "exception": false,
     "start_time": "2020-12-17T10:12:44.302339",
     "status": "completed"
    },
    "tags": []
   },
   "outputs": [],
   "source": [
    "iter_test = env.iter_test()"
   ]
  },
  {
   "cell_type": "code",
   "execution_count": null,
   "metadata": {
    "papermill": {
     "duration": 0.551387,
     "end_time": "2020-12-17T10:12:45.100077",
     "exception": false,
     "start_time": "2020-12-17T10:12:44.54869",
     "status": "completed"
    },
    "tags": []
   },
   "outputs": [],
   "source": [
    "for (test_df, sample_prediction_df) in iter_test:\n",
    "    test_df = test_df.merge(user_df, on = \"user_id\", how = \"left\")\n",
    "    test_df = test_df.merge(content_df, on = \"content_id\", how = \"left\")\n",
    "    test_df['content_questions'].fillna(0, inplace = True)\n",
    "    test_df['content_mean'].fillna(0.5, inplace = True)\n",
    "    test_df['watches_lecture'].fillna(0, inplace = True)\n",
    "    test_df['user_questions'].fillna(0, inplace = True)\n",
    "    test_df['user_mean'].fillna(0.5, inplace = True)\n",
    "    test_df['prior_question_elapsed_time'].fillna(mean_prior, inplace = True)\n",
    "    test_df['prior_question_had_explanation'].fillna(False, inplace = True)\n",
    "    test_df['prior_question_had_explanation'] = label_enc.transform(test_df['prior_question_had_explanation'])\n",
    "    test_df[['content_questions', 'user_questions']] = test_df[['content_questions', 'user_questions']].astype(int)\n",
    "    test_df['answered_correctly'] =  model.predict(test_df[features])\n",
    "    env.predict(test_df.loc[test_df['content_type_id'] == 0, ['row_id', 'answered_correctly']])"
   ]
  },
  {
   "cell_type": "code",
   "execution_count": null,
   "metadata": {},
   "outputs": [],
   "source": []
  },
  {
   "cell_type": "code",
   "execution_count": null,
   "metadata": {},
   "outputs": [],
   "source": []
  }
 ],
 "metadata": {
  "kernelspec": {
   "display_name": "Python 3 (ipykernel)",
   "language": "python",
   "name": "python3"
  },
  "language_info": {
   "codemirror_mode": {
    "name": "ipython",
    "version": 3
   },
   "file_extension": ".py",
   "mimetype": "text/x-python",
   "name": "python",
   "nbconvert_exporter": "python",
   "pygments_lexer": "ipython3",
   "version": "3.7.12"
  },
  "vscode": {
   "interpreter": {
    "hash": "7eb649a948315ea934e139c637541371f4a6f98de8952f5db731515d308ce507"
   }
  }
 },
 "nbformat": 4,
 "nbformat_minor": 4
}
